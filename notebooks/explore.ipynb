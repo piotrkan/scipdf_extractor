{
 "cells": [
  {
   "attachments": {},
   "cell_type": "markdown",
   "metadata": {},
   "source": [
    "## EDA\n",
    "Although we dont have much data available, we can use some of the supplied pdfs for the exploring the pdf parsing system. PDFs of documents are easy to read for humans but tricky for machines as they can have varying layouts, watermarks, links, images, captions, annotations etc, which make it very hard to analyze the actual content"
   ]
  },
  {
   "attachments": {},
   "cell_type": "markdown",
   "metadata": {},
   "source": [
    "In the past I have only worked with pypdf to extract or merge simple PDFs. While it worked well for my purpose back then (joining clinical pdfs), I doubt it will work well for extracting scientific corpus (afaik it doesnt scan the files or analyzes the metadata) "
   ]
  },
  {
   "cell_type": "code",
   "execution_count": null,
   "metadata": {},
   "outputs": [
    {
     "data": {
      "text/plain": [
       "{'/Keywords': 'Post-COVID syndrome,Myalgic encephalomyelitis/chronic fatigue syndrome,Endothelial dysfunction,Reactive hyperaemia index,Endothelin-1',\n",
       " '/CrossMarkDomains[1]': 'springer.com',\n",
       " '/Creator': 'Springer',\n",
       " '/ModDate': \"D:20220322100752+01'00'\",\n",
       " '/CreationDate': \"D:20220317084812+05'30'\",\n",
       " '/CrossmarkMajorVersionDate': '2010-04-23',\n",
       " '/Subject': 'Journal of Translational Medicine, https://doi.org/10.1186/s12967-022-03346-2',\n",
       " '/Author': 'Milan Haffke ',\n",
       " '/Title': 'Endothelial dysfunction and altered endothelial biomarkers in patients with post-COVID-19 syndrome and chronic fatigue syndrome (ME/CFS)',\n",
       " '/CrossmarkDomainExclusive': 'true',\n",
       " '/robots': 'noindex',\n",
       " '/Producer': 'Acrobat Distiller 10.1.8 (Windows); modified using iText® 5.3.5 ©2000-2012 1T3XT BVBA (SPRINGER SBM; licensed version)',\n",
       " '/doi': '10.1186/s12967-022-03346-2',\n",
       " '/CrossMarkDomains[2]': 'springerlink.com'}"
      ]
     },
     "execution_count": 80,
     "metadata": {},
     "output_type": "execute_result"
    }
   ],
   "source": [
    "import os\n",
    "from pypdf import PdfReader\n",
    "\n",
    "\n",
    "PDF_PATH = '../data/enfothelial_dysfunction.pdf'\n",
    "\n",
    "reader = PdfReader(PDF_PATH)\n",
    "reader.metadata\n"
   ]
  },
  {
   "cell_type": "code",
   "execution_count": null,
   "metadata": {},
   "outputs": [
    {
     "name": "stdout",
     "output_type": "stream",
     "text": [
      "11\n",
      "Haffke  et al. Journal of Translational Medicine          (2022) 20:138  \n",
      "https://doi.org/10.1186/s12967-022-03346-2\n",
      "RESEARCH\n",
      "Endothelial dysfunction and altered \n",
      "endothelial biomarkers in patients \n",
      "with post -COVID -19 syndrome and chronic \n",
      "fatigue syndrome (ME/CFS)\n",
      "Milan Haffke1* , Helma Freitag1, Gordon Rudolf1, Martina Seifert1,2,3, Wolfram Doehner2,3,4,5, \n",
      "Nadja Scherbakov2,3,4,5, Leif Hanitsch1, Kirsten Wittke1, Sandra Bauer1, Frank Konietschke6, Friedemann Paul7,8,9, \n",
      "Judith Bellmann‑Strobl7,8,9, Claudia Kedor1, Carmen Scheibenbogen1† and Franziska Sotzny1† \n",
      "Abstract \n",
      "Background: Fatigue, exertion intolerance and post ‑exertional malaise are among the most frequent symptoms of \n",
      "Post ‑COVID Syndrome (PCS), with a subset of patients fulfilling criteria for Myalgic Encephalomyelitis/Chronic Fatigue \n",
      "Syndrome (ME/CFS). As SARS‑ CoV‑2 infects endothelial cells, causing endotheliitis and damaging the endothelium, \n",
      "we investigated endothelial dysfunction (ED) and endothelial biomarkers in patients with PCS.\n",
      "Methods: We studied the endothelial function in 30 PCS patients with persistent fatigue and exertion intolerance as \n",
      "well as in 15 age ‑ and sex matched seronegative healthy controls (HCs). 14 patients fulfilled the diagnostic criteria for \n",
      "ME/CFS. The other patients were considered to have PCS. Peripheral endothelial function was assessed by the reactive \n",
      "hyperaemia index (RHI) using peripheral arterial tonometry (PAT) in patients and HCs. In a larger cohort of patients \n",
      "and HCs, including post ‑COVID reconvalescents (PCHCs), Endothelin‑1 (ET ‑1), Angiopoietin‑2 (Ang‑2), Endocan (ESM ‑\n",
      "1), IL ‑8, Angiotensin‑ Converting Enzyme (ACE) and ACE2 were analysed as endothelial biomarkers.\n",
      "Results: Five of the 14 post ‑COVID ME/CFS patients and five of the 16 PCS patients showed ED defined by a dimin‑\n",
      "ished RHI (< 1.67), but none of HCs exhibited this finding. A paradoxical positive correlation of RHI with age, blood \n",
      "pressure and BMI was found in PCS but not ME/CFS patients. The ET ‑1 concentration was significantly elevated in \n",
      "both ME/CFS and PCS patients compared to HCs and PCHCs. The serum Ang‑2 concentration was lower in both PCS \n",
      "patients and PCHCs compared to HCs.\n",
      "Conclusion: A subset of PCS patients display evidence for ED shown by a diminished RHI and altered endothelial \n",
      "biomarkers. Different associations of the RHI with clinical parameters as well as varying biomarker profiles may sug‑\n",
      "gest distinct pathomechanisms among patient subgroups.\n",
      "Keywords: Post ‑COVID syndrome, Myalgic encephalomyelitis/chronic fatigue syndrome, Endothelial dysfunction, \n",
      "Reactive hyperaemia index, Endothelin‑1\n",
      "© The Author(s) 2022. Open Access This article is licensed under a Creative Commons Attribution 4.0 International License, which \n",
      "permits use, sharing, adaptation, distribution and reproduction in any medium or format, as long as you give appropriate credit to the \n",
      "original author(s) and the source, provide a link to the Creative Commons licence, and indicate if changes were made. The images or \n",
      "other third party material in this article are included in the article’s Creative Commons licence, unless indicated otherwise in a credit line \n",
      "to the material. If material is not included in the article’s Creative Commons licence and your intended use is not permitted by statutory \n",
      "regulation or exceeds the permitted use, you will need to obtain permission directly from the copyright holder. To view a copy of this \n",
      "licence, visit http:// creat iveco mmons. org/ licen ses/ by/4. 0/. The Creative Commons Public Domain Dedication waiver (http:// creat iveco  \n",
      "mmons. org/ publi cdoma in/ zero/1. 0/) applies to the data made available in this article, unless otherwise stated in a credit line to the data.Background\n",
      "Persistent symptoms for more than six  months follow -\n",
      "ing mild to moderate coronavirus disease-2019 (COVID-\n",
      "19) are reported in 10–30% of patients [1–3]. The WHO \n",
      "recently defined the post-COVID-19 condition as a Open AccessJournal of \n",
      "Translational Medicin e\n",
      "*Correspondence:  milan.haffke@charite.de\n",
      "†Carmen Scheibenbogen and Franziska Sotzny share senior authors.\n",
      "1 Institute for Medical Immunology, Charité–Universitätsmedizin Berlin, \n",
      "Corporate Member of Freie Universität Berlin and Humboldt Universität \n",
      "Zu Berlin, Berlin, Germany\n",
      "Full list of author information is available at the end of the article\n"
     ]
    }
   ],
   "source": [
    "#experiment with reading the first page\n",
    "page_0 = reader.pages[0]\n",
    "\n",
    "#length\n",
    "print(len(reader.pages))\n",
    "\n",
    "#extract only text oriented up\n",
    "print(page_0.extract_text(0))"
   ]
  },
  {
   "cell_type": "code",
   "execution_count": null,
   "metadata": {},
   "outputs": [
    {
     "name": "stdout",
     "output_type": "stream",
     "text": [
      "Haffke et al. Journal of Translational Medicine          (2022) 20:138\n",
      "https://doi.org/10.1186/s12967-022-03346-2                                                                                                                                                                                                                        Journal of\n",
      "                                                                                                                                                                                                           Translational Medicine\n",
      "\n",
      "   RESEARCH                                                                                                                                                                                                                                                  Open Access\n",
      "Endothelial dysfunc tion and altered\n",
      "endothelial biomarkers in patients\n",
      "with post- COVID -19 syndrome and chronic\n",
      "fatigue syndrome (ME/CFS)\n",
      "\n",
      "MilanHaffke                                                                                  1* , HelmaFreitag                                                                                                                                                                 1, GordonRudolf                                                                                           1, Mar tinaSeifer t                                                                                      1,2,3, Wolfram                                                                                                                                                            Doehner2,3,4,5,\n",
      "NadjaScherbakov                                                                                                                              2,3,4,5, LeifHanitsch                                                           1,   KirstenWittke                                                            1, SandraBauer                                                                                                                                                                        1, FrankKonietschke                                                                                                6, FriedemannPaul                                                                                                                                                                                                                       7,8,9,\n",
      "JudithBellmann‑Strobl                                                                                                                                           7,8,9, ClaudiaKedor                                                                                                                                                                                    1, CarmenScheibenbogen                                                                                                       1†          and Franzisk aSotzny                                            1†\n",
      "\n",
      "\n",
      "\n",
      "    Abstract\n",
      "    Background:                                                                                                                                Fatigue, exer tion intolerance and post‑    exer tional malaise are among the most frequent symptoms of\n",
      "    Post‑    COVID Syndrome (PCS), with a subset of patients fulfilling criteria for Myalgic Encephalomyelitis/Chronic Fatigue\n",
      "    Syndrome (ME/CFS). As SARS‑                                                                                                                           CoV‑2 infects endothelial cells, causing endotheliitis and damaging the endothelium,\n",
      "    we investigated endothelial dysfunction (ED) and endothelial biomarkers in patients with PCS.\n",
      "    Methods:                                                                                                                                                                We studied the endothelial function in 30 PCS patients with persistent fatigue and exer tion intolerance as\n",
      "    well as in 15 age ‑ and sex matched seronegative healthy controls (HCs). 14 patients fulfilled the diagnostic criteria for\n",
      "    ME/CFS. The other patients were considered to have PCS. Peripheral endothelial function was assessed by the reactive\n",
      "    hyperaemia index (RHI) using peripheral ar terial tonometr y (PAT   ) in patients and HCs. In a larger cohor t of patients\n",
      "    and HCs, including post‑    COVID reconvalescents (PCHCs), Endothelin‑1 (ET                                                                                                                                                                                                                                                                                                                                                                                                                                                                                                                                                                                            ‑1), Angiopoietin‑2 (Ang‑2), Endocan (ESM                                                                                                                                                                                                                                                                                        ‑\n",
      "    1), IL‑8, Angiotensin‑                                                                                                                   Conver ting Enz yme (ACE) and ACE2 were analysed as endothelial biomarkers.\n",
      "    Results:                                                                                                                                           Five of the 14 post‑    COVID ME/CFS patients and five of the 16 PCS patients showed ED defined by a dimin‑\n",
      "    ished RHI (<                                                                                                                                                                                                                       1.67), but none of HCs exhibited this finding. A paradoxical positive correlation of RHI with age, blood\n",
      "    pressure and BMI was found in PCS but not ME/CFS patients. The E T‑1 concentration was significantly elevated in\n",
      "    both ME/CFS and PCS patients compared to HCs and PCHCs. The serum Ang‑2 concentration was lower in both PCS\n",
      "    patients and PCHCs compared to HCs.\n",
      "    Conclusion:                                                                                                                                                                                                                         A subset of PCS patients display evidence for ED shown by a diminished RHI and altered endothelial\n",
      "    biomarkers. Different associations of the RHI with clinical parameters as well as var ying biomarker profiles may sug‑\n",
      "    gest distinct pathomechanisms among patient subgroups.\n",
      "    Keywords:                                                                      Post‑    COVID syndrome, Myalgic encephalomyelitis/chronic fatigue syndrome, Endothelial dysfunction,\n",
      "    Reactive hyperaemia index, Endothelin‑1\n",
      "\n",
      "\n",
      "\n",
      "*Correspondence:  milan.haffke@charite.de                                                                                                                 Background\n",
      "\n",
      "†      Carmen Scheibenbogen and Franziska Sotzny share senior authors.                                                                                    Persistent symptoms for more than six     months follow-\n",
      "1 Institute forMedical Immunology, Charité–Universitätsmedizin Berlin,                                                                                    ing mild to moderate coronavirus disease-2019 (COVID-\n",
      "Corporate Member ofFreie Universität Berlin andHumboldt Universität                                                                                       19) are reported in 10–30% of patients [1–3]. The WHO\n",
      "Zu Berlin, Berlin, Germany                                                                                                                                recently defined the post-COVID-19 condition as a\n",
      "Full list of author information is available at the end of the article\n",
      "\n",
      "\n",
      "                                                                             © The Author(s) 2022. Open Access This article is licensed under a Creative Commons Attribution 4.0 International License, which\n",
      "                                                                             permits use, sharing, adaptation, distribution and reproduction in any medium or format, as long as you give appropriate credit to the\n",
      "                                                                             original author(s) and the source, provide a link to the Creative Commons licence, and indicate if changes were made. The images or\n",
      "                                                                             other third party material in this article are included in the article’s Creative Commons licence, unless indicated other wise in a credit line\n",
      "                                                                             to the material. If material is not included in the article’s Creative Commons licence and your intended use is not permitted by statutor y\n",
      "                                                                             regulation or exceeds the permitted use, you will need to obtain permission directly from the copyright holder. To view a copy of this\n",
      "                                                                             licence, visit http:// creat iveco mmons. org/ licen ses/ by/4. 0/. The Creative Commons Public Domain Dedication waiver (http:// creat iveco\n",
      "                                                                             mmons. org/ publi cdoma in/ zero/1. 0/) applies to the data made available in this article, unless other wise stated in a credit line to the data.\n"
     ]
    }
   ],
   "source": [
    "#extract ext & layout\n",
    "print(page_0.extract_text(extraction_mode='layout'))"
   ]
  },
  {
   "cell_type": "code",
   "execution_count": null,
   "metadata": {},
   "outputs": [
    {
     "name": "stdout",
     "output_type": "stream",
     "text": [
      "Haffke et al. Journal of Translational Medicine          (2022) 20:138                                                                           Page 2 of 11\n",
      "\n",
      "\n",
      "\n",
      "\n",
      "state persisting at least three    months from the onset of                      Counterregulator y ACE2 cleaves angiotensin I into angi-\n",
      "COVID-19 with common symptoms such as fatigue,                                   otensin 1–9 and metabolises angiotensin II to angioten               -\n",
      "post-exertional malaise and cognitive dysfunction                                sin 1–7. Peptides generated by ACE2 are ligands of the\n",
      "impacting ever yday functioning .                                                receptor Mas, which triggers protective, vasodilative sig-\n",
      "  In our observational longitudinal PA-COVID Fatigue                             nalling [24].\n",
      "study of PCS patients with persistent moderate to\n",
      "severe fatigue and exertion intolerance for more than                            Methods\n",
      "six   months after mild to moderate COVID-19, we found                           Par ticipants\n",
      "that approximately 50% of patients fulfilled the diagnos-                        Thirty PCS patients with persistent fatigue and exer-\n",
      "tic criteria of Myalgic Encephalomyelitis/Chronic Fatigue                        tion intolerance following mild to moderate COVID-19\n",
      "Syndrome (ME/CFS), but many PCS patients not fulfill-                            were recruited from an ongoing observational study for\n",
      "ing these criteria were equally impaired [4]. ME/CFS is a                        the measurement of endothelial function by RH-PAT.\n",
      "complex disease frequently triggered by an infection with                        Fourteen of the patients fulfilled the diagnostic criteria\n",
      "Epstein-Barr virus (EBV ) or parvovirus B19, but several                         for ME/CFS according to the 2003 Canadian Consensus\n",
      "other viral and nonviral triggers have been described                            Criteria [4,                                                                           25]. In contrast to the original classification\n",
      "[5–7]. Postexertional malaise (PEM), which describes a                           and in accordance with the studies of L. Jason and col-\n",
      "disproportional aggravation of symptoms typically last-                          leagues, a minimum of 14 h (instead of 24 h) of PEM was\n",
      "ing for more than 14 h up to several days following a mild                       required for the diagnosis of ME/CFS [26]. As a control\n",
      "mental or physical exertion is a key symptom of ME/CFS                           group, 15 age- and sex-matched HCs without a known\n",
      "[8].                                                                             histor y of COVID-19 were characterised using RH-PAT.\n",
      "  The pathomechanism of ME/CFS is not well under-                                The endothelial biomarkers were validated in a second\n",
      "stood, but there is ample evidence for impaired perfu-                           cohort of 56 PCS patients (26 of them fulfilling diagnos-\n",
      "sion and endothelial dysfunction (ED) [7,                                           9–12]. ED is tic criteria for ME/CFS), 50 HCs without a known histor y\n",
      "characterised by a diminished bioavailability of vasodi-                         of COVID-19, and 20 PCHCs with at least five    months\n",
      "lators, while on the other hand, endothelium-derived                             elapsed following COVID-19 infection. HCs of both\n",
      "vasoconstrictors are increased, leading to impaired                              cohorts were recruited before SARS -COV-2 vaccination\n",
      "endothelium-dependent vasodilation [13,                                                                                                                                        14]. In the con                                         -and were negative for SARS -CoV-2 antibodies tested by\n",
      "text of infection with SARS -CoV-2, the potential role of                        Anti-SARS-CoV-2-spike IgG-ELISA (Euroimmune). The\n",
      "ED is of particular interest, as the virus can directly infect                   characteristics of both cohorts are provided in Table    1A\n",
      "the endothelium by engaging the Angiotensin-Convert-                             and B. The study was approved by the Ethics Commit-\n",
      "ing Enzyme (ACE) 2 receptor [15]. In acute COVID-19,                             tee of Charité—Universitätsmedizin Berlin in accord                            -\n",
      "there is evidence for vascular endothelial cell infection,                       ance with the 1964 Declaration of Helsinki and its later\n",
      "endotheliitis and microthrombosis across multiple vascu-                         amendments (EA2/066/20). All study participants gave\n",
      "larized tissues [16, 17].                                                        written informed consent.\n",
      "  In this study, we aimed to characterise peripheral\n",
      "endothelial function using postocclusive reactive hyper-\n",
      "aemia peripheral arterial tonometry (RH-PAT) in PCS                              Assessment of endothelial function\n",
      "patients following mild to moderate COVID-19. In                                 Peripheral endothelial function was assessed using\n",
      "addition, we analysed several endothelial biomarkers                             postocclusive reactive hyperaemia peripheral arterial\n",
      "including Endothelin-1 (ET-1), Angiopoietin-2 (Ang-                              tonometry (RH-PAT) (endoPAT2000 device; Itamar\n",
      "2) and Endocan (ESM-1) which play an important role                              Medical Ltd.; Caesarea, Israel) as previously described\n",
      "in inflammatory and noninflammatory diseases associ-                             [10]. Endothelium-mediated changes in peripheral arte                                                       -\n",
      "ated with ED [18–22]. Furthermore, we assessed Inter                                                                                                                                                                        -rial tone were recorded using plethysmographic probes\n",
      "leukin 8 (IL-8), Angiotensin-Converting Enzyme (ACE)                             on the index finger of each hand during reactive hyper-\n",
      "and ACE2. IL-8 is secreted not only by monocytes/                                aemia. Hyperaemia was induced by occlusion of the left\n",
      "macrophages but also by endothelial cells and vascular                           brachial artery over 5    minutes using an inflatable blood\n",
      "smooth muscle cells. This chemokine plays an impor-                              pressure cuff. The RHI was calculated from the change in\n",
      "tant role in (endothelial) inflammation and regulation                           the pulse wave amplitude (PWA) relative to baseline in\n",
      "of leukocyte rolling as well as vascular permeability                            the occluded arm and was corrected for corresponding\n",
      "[23]. ACE and ACE2 are crucial actors in the mainte                                                       -changes in PWA relative to baseline in the contra-lateral,\n",
      "nance of blood pressure and vascular homeostasis [2].                            nonoccluded arm in order to minimise the influence of\n",
      "ACE converts angiotensin I into the vasoconstrictive                             nonendothelial dependent systemic effects, using the\n",
      "angiotensin II, which activates angiotensin II receptors.                        equation: RHI        =(A/B) ÷                                                                                                                                                                                      (C/D). Based on previous studies\n"
     ]
    }
   ],
   "source": [
    "#experiment with reading the 2nd page\n",
    "page_1 = reader.pages[1]\n",
    "print(page_1.extract_text(extraction_mode='layout'))"
   ]
  },
  {
   "attachments": {},
   "cell_type": "markdown",
   "metadata": {},
   "source": [
    "Although the metadata looks correct, as well as extracted text (especially when layout is preserved), this might not be so useful to us - ideally we want to get a tool which is capable of extracting texts from specific sections (e.g. we want text from abstract, main text body but not from authors, references etc). Technically we can use some spatial cropping to extract only contents that are of interest but this is going to work on case-by-case basis so not very generelizable.\n",
    "\n",
    "After very brief search, I stumbled upon PyMUPDF which seems much more suitalbe for our purpose - it provides table of contents and hierarchical levelling of contents. "
   ]
  },
  {
   "attachments": {},
   "cell_type": "markdown",
   "metadata": {},
   "source": [
    "#### PyMUPDF"
   ]
  },
  {
   "cell_type": "code",
   "execution_count": null,
   "metadata": {},
   "outputs": [
    {
     "name": "stdout",
     "output_type": "stream",
     "text": [
      "{'format': 'PDF 1.6', 'title': 'Endothelial dysfunction and altered endothelial biomarkers in patients with post-COVID-19 syndrome and chronic fatigue syndrome (ME/CFS)', 'author': 'Milan Haffke ', 'subject': 'Journal of Translational Medicine, https://doi.org/10.1186/s12967-022-03346-2', 'keywords': 'Post-COVID syndrome,Myalgic encephalomyelitis/chronic fatigue syndrome,Endothelial dysfunction,Reactive hyperaemia index,Endothelin-1', 'creator': 'Springer', 'producer': 'Acrobat Distiller 10.1.8 (Windows); modified using iText® 5.3.5 ©2000-2012 1T3XT BVBA (SPRINGER SBM; licensed version)', 'creationDate': \"D:20220317084812+05'30'\", 'modDate': \"D:20220322100752+01'00'\", 'trapped': '', 'encryption': None}\n"
     ]
    },
    {
     "data": {
      "text/plain": [
       "[[1,\n",
       "  'Endothelial dysfunction and\\xa0altered endothelial biomarkers in\\xa0patients with\\xa0post-COVID-19 syndrome and\\xa0chronic fatigue syndrome (MECFS)',\n",
       "  1],\n",
       " [2, 'Abstract ', 1],\n",
       " [3, 'Background: ', 1],\n",
       " [3, 'Methods: ', 1],\n",
       " [3, 'Results: ', 1],\n",
       " [3, 'Conclusion: ', 1],\n",
       " [2, 'Background', 1],\n",
       " [2, 'Methods', 2],\n",
       " [3, 'Participants', 2],\n",
       " [3, 'Assessment of\\xa0endothelial function', 2],\n",
       " [3, 'Assessment of\\xa0biomarkers', 3],\n",
       " [3, 'Assessment of\\xa0symptom severity', 3],\n",
       " [3, 'Statistical analysis', 4],\n",
       " [2, 'Results', 4],\n",
       " [3, 'Study population', 4],\n",
       " [3, 'Evidence for\\xa0peripheral ED in\\xa0patients', 4],\n",
       " [3,\n",
       "  'Paradoxical associations of\\xa0clinical parameters with\\xa0the\\xa0RHI',\n",
       "  4],\n",
       " [3, 'Alterations in\\xa0endothelial biomarkers in\\xa0post-COVID cohorts', 4],\n",
       " [2, 'Discussion', 5],\n",
       " [2, 'Conclusion', 8],\n",
       " [2, 'Acknowledgements', 9],\n",
       " [2, 'References', 9]]"
      ]
     },
     "execution_count": 84,
     "metadata": {},
     "output_type": "execute_result"
    }
   ],
   "source": [
    "import pymupdf\n",
    "doc = pymupdf.open('../data/enfothelial_dysfunction.pdf')\n",
    "\n",
    "print(doc.metadata)\n",
    "\n",
    "#table of contents\n",
    "doc.get_toc()"
   ]
  },
  {
   "attachments": {},
   "cell_type": "markdown",
   "metadata": {},
   "source": [
    "This is more like it  we get insight into which pages can be not of our interest (eg Acknowledgements, References, ); metadata is not as extensive as in case of pypdf but we are not as interested in metadata"
   ]
  },
  {
   "cell_type": "code",
   "execution_count": null,
   "metadata": {},
   "outputs": [
    {
     "name": "stdout",
     "output_type": "stream",
     "text": [
      "11\n",
      "Haffke et al. Journal of Translational Medicine          (2022) 20:138  \n",
      "https://doi.org/10.1186/s12967-022-03346-2\n",
      "RESEARCH\n",
      "Endothelial dysfunction and altered \n",
      "endothelial biomarkers in patients \n",
      "with post‑COVID‑19 syndrome and chronic \n",
      "fatigue syndrome (ME/CFS)\n",
      "Milan Haffke1*  , Helma Freitag1, Gordon Rudolf1, Martina Seifert1,2,3, Wolfram Doehner2,3,4,5, \n",
      "Nadja Scherbakov2,3,4,5, Leif Hanitsch1, Kirsten Wittke1, Sandra Bauer1, Frank Konietschke6, Friedemann Paul7,8,9, \n",
      "Judith Bellmann‑Strobl7,8,9, Claudia Kedor1, Carmen Scheibenbogen1† and Franziska Sotzny1† \n",
      "Abstract \n",
      "Background:  Fatigue, exertion intolerance and post-exertional malaise are among the most frequent symptoms of \n",
      "Post-COVID Syndrome (PCS), with a subset of patients fulfilling criteria for Myalgic Encephalomyelitis/Chronic Fatigue \n",
      "Syndrome (ME/CFS). As SARS-CoV-2 infects endothelial cells, causing endotheliitis and damaging the endothelium, \n",
      "we investigated endothelial dysfunction (ED) and endothelial biomarkers in patients with PCS.\n",
      "Methods:  We studied the endothelial function in 30 PCS patients with persistent fatigue and exertion intolerance as \n",
      "well as in 15 age- and sex matched seronegative healthy controls (HCs). 14 patients fulfilled the diagnostic criteria for \n",
      "ME/CFS. The other patients were considered to have PCS. Peripheral endothelial function was assessed by the reactive \n",
      "hyperaemia index (RHI) using peripheral arterial tonometry (PAT) in patients and HCs. In a larger cohort of patients \n",
      "and HCs, including post-COVID reconvalescents (PCHCs), Endothelin-1 (ET-1), Angiopoietin-2 (Ang-2), Endocan (ESM-\n",
      "1), IL-8, Angiotensin-Converting Enzyme (ACE) and ACE2 were analysed as endothelial biomarkers.\n",
      "Results:  Five of the 14 post-COVID ME/CFS patients and five of the 16 PCS patients showed ED defined by a dimin‑\n",
      "ished RHI (< 1.67), but none of HCs exhibited this finding. A paradoxical positive correlation of RHI with age, blood \n",
      "pressure and BMI was found in PCS but not ME/CFS patients. The ET-1 concentration was significantly elevated in \n",
      "both ME/CFS and PCS patients compared to HCs and PCHCs. The serum Ang-2 concentration was lower in both PCS \n",
      "patients and PCHCs compared to HCs.\n",
      "Conclusion:  A subset of PCS patients display evidence for ED shown by a diminished RHI and altered endothelial \n",
      "biomarkers. Different associations of the RHI with clinical parameters as well as varying biomarker profiles may sug‑\n",
      "gest distinct pathomechanisms among patient subgroups.\n",
      "Keywords:  Post-COVID syndrome, Myalgic encephalomyelitis/chronic fatigue syndrome, Endothelial dysfunction, \n",
      "Reactive hyperaemia index, Endothelin-1\n",
      "© The Author(s) 2022. Open Access This article is licensed under a Creative Commons Attribution 4.0 International License, which \n",
      "permits use, sharing, adaptation, distribution and reproduction in any medium or format, as long as you give appropriate credit to the \n",
      "original author(s) and the source, provide a link to the Creative Commons licence, and indicate if changes were made. The images or \n",
      "other third party material in this article are included in the article’s Creative Commons licence, unless indicated otherwise in a credit line \n",
      "to the material. If material is not included in the article’s Creative Commons licence and your intended use is not permitted by statutory \n",
      "regulation or exceeds the permitted use, you will need to obtain permission directly from the copyright holder. To view a copy of this \n",
      "licence, visit http://​\n",
      "creat​\n",
      "iveco​\n",
      "mmons.​\n",
      "org/​\n",
      "licen​\n",
      "ses/​\n",
      "by/4.​\n",
      "0/. The Creative Commons Public Domain Dedication waiver (http://​\n",
      "creat​\n",
      "iveco​\n",
      "mmons.​\n",
      "org/​\n",
      "publi​\n",
      "cdoma​\n",
      "in/​\n",
      "zero/1.​\n",
      "0/) applies to the data made available in this article, unless otherwise stated in a credit line to the data.\n",
      "Background\n",
      "Persistent symptoms for more than six  months follow-\n",
      "ing mild to moderate coronavirus disease-2019 (COVID-\n",
      "19) are reported in 10–30% of patients [1–3]. The WHO \n",
      "recently defined the post-COVID-19 condition as a \n",
      "Open Access\n",
      "Journal of \n",
      "Translational Medicine\n",
      "*Correspondence:  milan.haffke@charite.de\n",
      "†Carmen Scheibenbogen and Franziska Sotzny share senior authors.\n",
      "1 Institute for Medical Immunology, Charité–Universitätsmedizin Berlin, \n",
      "Corporate Member of Freie Universität Berlin and Humboldt Universität \n",
      "Zu Berlin, Berlin, Germany\n",
      "Full list of author information is available at the end of the article\n",
      "\n"
     ]
    }
   ],
   "source": [
    "print(doc.page_count)\n",
    "\n",
    "#examine first page\n",
    "print(doc[0].get_text())"
   ]
  },
  {
   "cell_type": "code",
   "execution_count": null,
   "metadata": {},
   "outputs": [
    {
     "name": "stdout",
     "output_type": "stream",
     "text": [
      "[(56.62200164794922, 31.710655212402344, 263.01239013671875, 51.33465576171875, 'Haffke\\xa0et\\xa0al. Journal of Translational Medicine          (2022) 20:138  \\nhttps://doi.org/10.1186/s12967-022-03346-2\\n', 0, 0), (61.822898864746094, 89.10063934326172, 129.68161010742188, 105.2076416015625, 'RESEARCH\\n', 1, 0), (56.62199401855469, 115.64900970458984, 489.315673828125, 222.4730224609375, 'Endothelial dysfunction and\\xa0altered \\nendothelial biomarkers in\\xa0patients \\nwith\\xa0post‑COVID‑19 syndrome and\\xa0chronic \\nfatigue syndrome (ME/CFS)\\n', 2, 0), (56.61956787109375, 229.29855346679688, 536.1975708007812, 271.2506103515625, 'Milan\\xa0Haffke1*\\u200a , Helma\\xa0Freitag1, Gordon\\xa0Rudolf1, Martina\\xa0Seifert1,2,3, Wolfram\\xa0Doehner2,3,4,5, \\nNadja\\xa0Scherbakov2,3,4,5, Leif\\xa0Hanitsch1, Kirsten\\xa0Wittke1, Sandra\\xa0Bauer1, Frank\\xa0Konietschke6, Friedemann\\xa0Paul7,8,9, \\nJudith\\xa0Bellmann‑Strobl7,8,9, Claudia\\xa0Kedor1, Carmen\\xa0Scheibenbogen1†\\xa0and Franziska\\xa0Sotzny1†\\u200a\\n', 3, 0), (63.122093200683594, 306.5359191894531, 533.354248046875, 508.2226257324219, 'Abstract\\u2003\\nBackground:\\u2002 Fatigue, exertion intolerance and post-exertional malaise are among the most frequent symptoms of \\nPost-COVID Syndrome (PCS), with a subset of patients fulfilling criteria for Myalgic Encephalomyelitis/Chronic Fatigue \\nSyndrome (ME/CFS). As SARS-CoV-2 infects endothelial cells, causing endotheliitis and damaging the endothelium, \\nwe investigated endothelial dysfunction (ED) and endothelial biomarkers in patients with PCS.\\nMethods:\\u2002 We studied the endothelial function in 30 PCS patients with persistent fatigue and exertion intolerance as \\nwell as in 15 age- and sex matched seronegative healthy controls (HCs). 14 patients fulfilled the diagnostic criteria for \\nME/CFS. The other patients were considered to have PCS. Peripheral endothelial function was assessed by the reactive \\nhyperaemia index (RHI) using peripheral arterial tonometry (PAT) in patients and HCs. In a larger cohort of patients \\nand HCs, including post-COVID reconvalescents (PCHCs), Endothelin-1 (ET-1), Angiopoietin-2 (Ang-2), Endocan (ESM-\\n1), IL-8, Angiotensin-Converting Enzyme (ACE) and ACE2 were analysed as endothelial biomarkers.\\nResults:\\u2002 Five of the 14 post-COVID ME/CFS patients and five of the 16 PCS patients showed ED defined by a dimin‑\\nished RHI (<\\u20091.67), but none of HCs exhibited this finding. A paradoxical positive correlation of RHI with age, blood \\npressure and BMI was found in PCS but not ME/CFS patients. The ET-1 concentration was significantly elevated in \\nboth ME/CFS and PCS patients compared to HCs and PCHCs. The serum Ang-2 concentration was lower in both PCS \\npatients and PCHCs compared to HCs.\\n', 4, 0), (63.132110595703125, 511.0026550292969, 518.9842529296875, 574.22265625, 'Conclusion:\\u2002 A subset of PCS patients display evidence for ED shown by a diminished RHI and altered endothelial \\nbiomarkers. Different associations of the RHI with clinical parameters as well as varying biomarker profiles may sug‑\\ngest distinct pathomechanisms among patient subgroups.\\nKeywords:\\u2002 Post-COVID syndrome, Myalgic encephalomyelitis/chronic fatigue syndrome, Endothelial dysfunction, \\nReactive hyperaemia index, Endothelin-1\\n', 5, 0), (180.5449981689453, 675.2638549804688, 534.056884765625, 731.9428100585938, '© The Author(s) 2022. Open Access This article is licensed under a Creative Commons Attribution 4.0 International License, which \\npermits use, sharing, adaptation, distribution and reproduction in any medium or format, as long as you give appropriate credit to the \\noriginal author(s) and the source, provide a link to the Creative Commons licence, and indicate if changes were made. The images or \\nother third party material in this article are included in the article’s Creative Commons licence, unless indicated otherwise in a credit line \\nto the material. If material is not included in the article’s Creative Commons licence and your intended use is not permitted by statutory \\nregulation or exceeds the permitted use, you will need to obtain permission directly from the copyright holder. To view a copy of this \\nlicence, visit http://\\u200b\\ncreat\\u200b\\niveco\\u200b\\nmmons.\\u200b\\norg/\\u200b\\nlicen\\u200b\\nses/\\u200b\\nby/4.\\u200b\\n0/. The Creative Commons Public Domain Dedication waiver (http://\\u200b\\ncreat\\u200b\\niveco\\u200b\\n', 6, 0), (180.54498291015625, 732.0128173828125, 535.535888671875, 739.94384765625, 'mmons.\\u200b\\norg/\\u200b\\npubli\\u200b\\ncdoma\\u200b\\nin/\\u200b\\nzero/1.\\u200b\\n0/) applies to the data made available in this article, unless otherwise stated in a credit line to the data.\\n', 7, 0), (304.7243957519531, 596.5109252929688, 540.9031982421875, 659.911376953125, 'Background\\nPersistent symptoms for more than six\\xa0 months follow-\\ning mild to moderate coronavirus disease-2019 (COVID-\\n19) are reported in 10–30% of patients [1–3]. The WHO \\nrecently defined the post-COVID-19 condition as a \\n', 8, 0), (463.2865905761719, 87.50890350341797, 535.5147094726562, 103.61590576171875, 'Open Access\\n', 9, 0), (383.2798767089844, 30.392940521240234, 541.2764282226562, 68.33612060546875, 'Journal of \\nTranslational Medicine\\n', 10, 0), (56.689903259277344, 605.3143310546875, 270.544921875, 658.8118286132812, '*Correspondence:  milan.haffke@charite.de\\n†Carmen Scheibenbogen and Franziska Sotzny share senior authors.\\n1 Institute for\\xa0Medical Immunology, Charité–Universitätsmedizin Berlin, \\nCorporate Member of\\xa0Freie Universität Berlin and\\xa0Humboldt Universität \\nZu Berlin, Berlin, Germany\\nFull list of author information is available at the end of the article\\n', 11, 0)]\n"
     ]
    }
   ],
   "source": [
    "#examine paragraphs\n",
    "print(doc[0].get_text('blocks'))"
   ]
  },
  {
   "attachments": {},
   "cell_type": "markdown",
   "metadata": {},
   "source": [
    "Although I didnt find a functionality allowing for extracting specific sections from the doc, the TOC still should be helpful with removing parts of PDFs that we are not so interested in (eg references, acknowledgments). I will now analyze remaining data using this"
   ]
  },
  {
   "attachments": {},
   "cell_type": "markdown",
   "metadata": {},
   "source": [
    "### Brief EDA of supplied data"
   ]
  },
  {
   "cell_type": "code",
   "execution_count": null,
   "metadata": {},
   "outputs": [
    {
     "name": "stdout",
     "output_type": "stream",
     "text": [
      "\n",
      " enfothelial_dysfunction.pdf\n",
      "[[1, 'Endothelial dysfunction and\\xa0altered endothelial biomarkers in\\xa0patients with\\xa0post-COVID-19 syndrome and\\xa0chronic fatigue syndrome (MECFS)', 1], [2, 'Abstract ', 1], [3, 'Background: ', 1], [3, 'Methods: ', 1], [3, 'Results: ', 1], [3, 'Conclusion: ', 1], [2, 'Background', 1], [2, 'Methods', 2], [3, 'Participants', 2], [3, 'Assessment of\\xa0endothelial function', 2], [3, 'Assessment of\\xa0biomarkers', 3], [3, 'Assessment of\\xa0symptom severity', 3], [3, 'Statistical analysis', 4], [2, 'Results', 4], [3, 'Study population', 4], [3, 'Evidence for\\xa0peripheral ED in\\xa0patients', 4], [3, 'Paradoxical associations of\\xa0clinical parameters with\\xa0the\\xa0RHI', 4], [3, 'Alterations in\\xa0endothelial biomarkers in\\xa0post-COVID cohorts', 4], [2, 'Discussion', 5], [2, 'Conclusion', 8], [2, 'Acknowledgements', 9], [2, 'References', 9]]\n",
      "{'format': 'PDF 1.6', 'title': 'Endothelial dysfunction and altered endothelial biomarkers in patients with post-COVID-19 syndrome and chronic fatigue syndrome (ME/CFS)', 'author': 'Milan Haffke ', 'subject': 'Journal of Translational Medicine, https://doi.org/10.1186/s12967-022-03346-2', 'keywords': 'Post-COVID syndrome,Myalgic encephalomyelitis/chronic fatigue syndrome,Endothelial dysfunction,Reactive hyperaemia index,Endothelin-1', 'creator': 'Springer', 'producer': 'Acrobat Distiller 10.1.8 (Windows); modified using iText® 5.3.5 ©2000-2012 1T3XT BVBA (SPRINGER SBM; licensed version)', 'creationDate': \"D:20220317084812+05'30'\", 'modDate': \"D:20220322100752+01'00'\", 'trapped': '', 'encryption': None}\n",
      "11\n",
      "\n",
      " mecfs_and_long_covid_similar_symptoms.pdf\n",
      "[[1, 'ME/CFS and Long COVID share similar symptoms and biological abnormalities: road map to the literature', 1], [2, 'Introduction', 1], [2, 'Brief summary of the illnesses', 2], [3, 'Overview of different conditions following acute COVID-19', 2], [3, 'Long COVID', 2], [3, 'ME/CFS', 2], [2, 'Comparison of the symptoms', 3], [2, 'Comparison of the underlying objective biological abnormalities', 4], [3, 'Central and autonomic nervous system', 4], [4, 'Cognition', 4], [4, 'Neurovascular abnormalities', 4], [4, 'Neuroendocrine abnormalities', 7], [4, 'Autonomic nervous system', 7], [4, 'Magnetic resonance imaging (MRI)', 7], [3, 'Immune system and infectious agents', 7], [3, 'Metabolic abnormalities', 7], [3, 'Cardiopulmonary and vascular abnormalities', 9], [2, 'Discussion', 9], [3, 'Similarities and differences in symptoms', 9], [3, 'Similarities and differences in underlying biology', 9], [3, 'Post-infection/post-injury syndrome', 12], [2, 'Conclusion', 12], [2, 'Author contributions', 12], [2, 'Funding', 12], [2, 'Acknowledgments', 12], [2, 'Conflict of interest', 12], [2, \"Publisher's note\", 12], [2, 'References', 12]]\n",
      "{'format': 'PDF 1.5', 'title': 'ME/CFS and Long COVID share similar symptoms and biological abnormalities: road map to the literature', 'author': 'Anthony L. Komaroff', 'subject': 'Komaroff AL and Lipkin WI (2023) ME/CFS and Long COVID share similar symptoms and biological abnormalities: road map to the literature Front. Med. 10:1187163. doi: 10.3389/fmed.2023.1187163', 'keywords': 'chronic fatigue syndrome (CFS), myalgic encephalomyelitis (ME), myalgic encephalomyelitis/chronic fatigue syndrome (ME/CFS), Long COVID, post-acute sequelae of SARS-CoV-2 infection, post-infectious fatigue syndrome, post-intensive care unit syndrome', 'creator': 'LaTeX with hyperref package', 'producer': 'pdfTeX-1.40.16', 'creationDate': \"D:20230605161243+05'30'\", 'modDate': \"D:20230605162601+05'30'\", 'trapped': '', 'encryption': None}\n",
      "24\n",
      "\n",
      " mecfs_systematic_review.pdf\n",
      "[[1, 'Introduction ', 1], [1, 'Materials and Methods ', 3], [2, 'Search Strategy ', 3], [2, 'Eligibility Criteria ', 4], [2, 'Synthesis of Results ', 5], [1, 'Results ', 5], [1, 'Discussions ', 9], [1, 'Conclusions ', 11], [1, 'References', 11]]\n",
      "{'format': 'PDF 1.7', 'title': 'Long COVID and Myalgic Encephalomyelitis/Chronic Fatigue Syndrome (ME/CFS)—A Systemic Review and Comparison of Clinical Presentation and Symptomatology', 'author': 'Timothy L. Wong and Danielle J. Weitzer', 'subject': 'Background and Objectives: Long COVID defines a series of chronic symptoms that patients may experience after resolution of acute COVID-19. Early reports from studies with patients with long COVID suggests a constellation of symptoms with similarities to another chronic medical illness—myalgic encephalomyelitis/chronic fatigue syndrome (ME/CFS). A review study comparing and contrasting ME/CFS with reported symptoms of long COVID may yield mutualistic insight into the characterization and management of both conditions. Materials and Methods: A systemic literature search was conducted in MEDLINE and PsycInfo through to 31 January 2021 for studies related to long COVID symptomatology. The literature search was conducted in accordance with PRISMA methodology. Results: Twenty-one studies were included in the qualitative analysis. Long COVID symptoms reported by the included studies were compared to a list of ME/CFS symptoms compiled from multiple case definitions. Twenty-five out of 29 known ME/CFS symptoms were reported by at least one selected long COVID study. Conclusions: Early studies into long COVID symptomatology suggest many overlaps with clinical presentation of ME/CFS. The need for monitoring and treatment for patients post-COVID is evident. Advancements and standardization of long COVID research methodologies would improve the quality of future research, and may allow further investigations into the similarities and differences between long COVID and ME/CFS.', 'keywords': 'long-haul COVID-19; COVID-19; ME/CFS; myalgic encephalomyelitis; chronic fatigue syndrome; systemic review', 'creator': 'LaTeX with hyperref', 'producer': 'pdfTeX-1.40.21', 'creationDate': \"D:20210426115249+08'00'\", 'modDate': \"D:20210426115543+08'00'\", 'trapped': '', 'encryption': None}\n",
      "14\n",
      "\n",
      " post-exertional_malaise.pdf\n",
      "[]\n",
      "{'format': 'PDF 1.4', 'title': '', 'author': '', 'subject': '', 'keywords': '', 'creator': 'IOS_WOR', 'producer': 'Acrobat Distiller 9.0.0 (Windows)', 'creationDate': 'D:20230413201522Z', 'modDate': \"D:20230413202617+05'30'\", 'trapped': '', 'encryption': None}\n",
      "8\n",
      "\n",
      " reviews_in_medical_virology_-_2021_-_yong_-_proposed_subtypes_of_post‐covid‐19_syndrome__or_long‐covid__and_their.pdf\n",
      "[[1, 'Proposed subtypes of post‐COVID‐19 syndrome (or long‐COVID) and their respective potential therapies', 1], [2, '1 | INTRODUCTION', 2], [2, '2 | METHODS', 2], [3, '2.1 | Eligibility criteria', 2], [3, '2.2 | Search strategy', 3], [2, '3 | RESULTS', 3], [3, '3.1 | Non‐severe COVID‐19 multi‐organ sequelae (NSC‐MOS)', 3], [3, '3.2 | Pulmonary fibrosis sequelae (PFS)', 16], [3, '3.3 | Myalgic encephalomyelitis/chronic fatigue syndrome (ME/CFS)', 17], [3, '3.4 | Postural orthostatic tachycardia syndrome (POTS)', 19], [3, '3.5 | Post‐intensive care syndrome (PICS)', 19], [3, '3.6 | Medical or clinical sequelae (MCS)', 20], [2, '4 | DISCUSSION', 21], [2, '5 | CONCLUSION', 21], [2, 'ACKNOWLEDGEMENTS', 21], [2, 'CONFLICT OF INTEREST', 21], [2, 'AUTHOR CONTRIBUTION', 21], [2, 'ETHICS STATEMENT', 22], [2, 'PATIENT CONSENT STATEMENT', 22], [2, 'PERMISSION TO REPRODUCE MATERIAL FROM OTHER SOURCES', 22], [2, 'DATA AVAILABILITY STATEMENT', 22]]\n",
      "{'format': 'PDF 1.7', 'title': 'Proposed subtypes of post‐COVID‐19 syndrome (or long‐COVID) and their respective potential therapies', 'author': '', 'subject': 'Reviews in Medical Virology 2022.32:e2315', 'keywords': '', 'creator': 'Arbortext Advanced Print Publisher 11.2.5182/W-x64', 'producer': 'PDFlib+PDI 9.1.2p4 (C++/Win64); modified using iText 4.2.0 by 1T3XT', 'creationDate': \"D:20240326190419+05'30'\", 'modDate': \"D:20240506075440-07'00'\", 'trapped': '', 'encryption': None}\n",
      "26\n",
      "\n",
      " sequale_in_adolescents.pdf\n",
      "[[1, 'Long-Term COVID 19 Sequelae in\\xa0Adolescents: the\\xa0Overlap with\\xa0Orthostatic Intolerance and\\xa0MECFS', 1], [2, 'Abstract', 1], [3, 'Purpose of Review ', 1], [3, 'Recent Findings ', 1], [3, 'Summary ', 1], [2, 'Introduction', 1], [2, 'Search Strategy', 2], [2, 'Definitions', 2], [2, 'Long COVID Symptoms', 2], [2, 'Epidemiology', 4], [2, 'Orthostatic Intolerance After COVID-19 Infection', 5], [2, 'Is Long COVID a\\xa0Unique Illness or\\xa0Is SARS-CoV-2 Another Trigger for\\xa0MECFS?', 6], [2, 'Management', 8], [3, 'Orthostatic Intolerance', 8], [3, 'PEM and\\xa0Managing Activity', 8], [3, 'Cognitive Dysfunction', 8], [3, 'Behavioral Symptoms', 9], [3, 'Headaches', 9], [3, 'Sleep Disturbances', 9], [3, 'MCAS and\\xa0Allergic Phenomenon', 9], [3, 'Individualized Approach', 9], [2, 'Conclusion', 10], [2, 'References', 10]]\n",
      "{'format': 'PDF 1.4', 'title': 'Long-Term COVID 19 Sequelae in Adolescents: the Overlap with Orthostatic Intolerance and ME/CFS', 'author': ' Amanda K. Morrow', 'subject': 'Current Pediatrics Reports, https://doi.org/10.1007/s40124-022-00261-4', 'keywords': 'Post-COVID-19 condition,Long COVID,Myalgic encephalomyelitis,Chronic fatigue syndrome,Orthostatic intolerance,Adolescent', 'creator': 'Adobe InDesign 15.0 (Windows)', 'producer': 'Acrobat Distiller 9.0.0 (Windows)', 'creationDate': \"D:20220517090701+08'00'\", 'modDate': \"D:20220517090701+08'00'\", 'trapped': '', 'encryption': None}\n",
      "14\n"
     ]
    }
   ],
   "source": [
    "pdfs = os.listdir('../data')\n",
    "for pdf in pdfs:\n",
    "    print('\\n',pdf)\n",
    "    doc = pymupdf.open(f'../data/{pdf}')\n",
    "    print(doc.get_toc())\n",
    "    print(doc.metadata)\n",
    "    print(doc.page_count)\n",
    "    "
   ]
  },
  {
   "attachments": {},
   "cell_type": "markdown",
   "metadata": {},
   "source": [
    "Provided PDFs come in different formats, from some of them its not possible to extract ToC, thus the solution with extracting specific sections might not be very generelizable. The metadata for post-exertional_malaise.pdf is also not existent, showing challenge of potential data types (and opportuntiy for making more robust solution). We can also notice different encodings, whitespace inconsistencies, across the papers, making text extraction yet more challenging\n",
    "\n",
    "Regardless, although at first I was planning to only utilize Pypdf, pymupdf might allow for less noisy solutions -> will use it for parsing"
   ]
  },
  {
   "attachments": {},
   "cell_type": "markdown",
   "metadata": {},
   "source": [
    "## SciSpacy NER BENCHMARKING\n",
    "\n",
    "models taken from [sciSpacy](https://allenai.github.io/scispacy/), project coming from allenai institute so they are reliable. Spacy allows for easy extraction of entities using pre-trained models, sciSpacy has models pretrained on scientific corpa.\n",
    "\n",
    "When benchmarking the NER models, we need to ask the following qs:\n",
    "* what entities we are interested in\n",
    "* how accurately are those entities captured by the models (ie are they capturing noise?)\n",
    "* is context suitable\n",
    "* how much time inference takes - thats not as important for now \n",
    "\n",
    "Wrapping functions used for extracting entities can be found in src.data module; they utilize spacy tokenization process. Contextualization process is a simple 'sliding window' approach, where we take fixed no. tokens prior and after our token of interest. While it is not a semantic process, with large window enough context should be provided.\n",
    "\n",
    "Normally, I would use the pretrained models for fine-tuning a NER model for our own interest however we dont have enough data to achieve this and it is not clear what exact entities are we interested in - they can be clinical, biological, chemical, technical, or all in one.\n",
    "\n",
    "I will use data/enfothelial_dysfunction.pdf & data/mecfs_and_long_covid_similar_symptoms.pdf for assessing the performance. For this purposes, I will not do any preprocessing as I also want to examine how the models handle 'raw' data (ie data with all content). "
   ]
  },
  {
   "cell_type": "code",
   "execution_count": 88,
   "metadata": {},
   "outputs": [
    {
     "name": "stdout",
     "output_type": "stream",
     "text": [
      "^C\n"
     ]
    }
   ],
   "source": [
    "\n",
    "!pip install https://s3-us-west-2.amazonaws.com/ai2-s2-scispacy/releases/v0.5.4/en_ner_craft_md-0.5.4.tar.gz\n",
    "\n",
    "!pip install https://s3-us-west-2.amazonaws.com/ai2-s2-scispacy/releases/v0.5.4/en_ner_jnlpba_md-0.5.4.tar.gz\n",
    "\n",
    "!pip install https://s3-us-west-2.amazonaws.com/ai2-s2-scispacy/releases/v0.5.4/en_ner_bc5cdr_md-0.5.4.tar.gz\n",
    "\n",
    "!pip install https://s3-us-west-2.amazonaws.com/ai2-s2-scispacy/releases/v0.5.4/en_ner_bionlp13cg_md-0.5.4.tar.gz"
   ]
  },
  {
   "cell_type": "code",
   "execution_count": 30,
   "metadata": {},
   "outputs": [],
   "source": [
    "import time\n",
    "import spacy\n",
    "import sys\n",
    "\n",
    "sys.path.append('..')\n",
    "from src.data import extract_txt_from_pdf\n",
    "from src import model"
   ]
  },
  {
   "cell_type": "code",
   "execution_count": 42,
   "metadata": {},
   "outputs": [],
   "source": [
    "#read data - lets extract only second and last page\n",
    "enfo_txt = extract_txt_from_pdf('../data/enfothelial_dysfunction.pdf',[1])\n",
    "enfo_ref = extract_txt_from_pdf('../data/enfothelial_dysfunction.pdf',[-1])\n",
    "mecfs_txt =extract_txt_from_pdf('../data/mecfs_systematic_review.pdf',[1])\n",
    "mecfs_ref =extract_txt_from_pdf('../data/mecfs_systematic_review.pdf',[-1])"
   ]
  },
  {
   "attachments": {},
   "cell_type": "markdown",
   "metadata": {},
   "source": [
    "### en_ner_craft_md\n",
    "Following entity types:\tGGP, SO, TAXON, CHEBI, GO, CL"
   ]
  },
  {
   "cell_type": "code",
   "execution_count": 44,
   "metadata": {},
   "outputs": [
    {
     "name": "stdout",
     "output_type": "stream",
     "text": [
      "[{'entity': 'virus', 'start_context': 133, 'end_context': 154, 'label': 'TAXON', 'context': 'complex disease frequently triggered by an infection with \\nEpstein-Barr virus (EBV) or parvovirus B19, but several \\n'}, {'entity': 'viral', 'start_context': 145, 'end_context': 166, 'label': 'TAXON', 'context': 'EBV) or parvovirus B19, but several \\nother viral and nonviral triggers have been described \\n[5–7]'}, {'entity': 'nonviral', 'start_context': 147, 'end_context': 168, 'label': 'TAXON', 'context': 'or parvovirus B19, but several \\nother viral and nonviral triggers have been described \\n[5–7]. Postexertional'}, {'entity': 'endothelium-derived \\nvasoconstrictors', 'start_context': 261, 'end_context': 284, 'label': 'GGP', 'context': '-\\nlators, while on the other hand, endothelium-derived \\nvasoconstrictors are increased, leading to impaired \\nendothelium-dependent vasodilation ['}, {'entity': 'virus', 'start_context': 133, 'end_context': 154, 'label': 'TAXON', 'context': 'complex disease frequently triggered by an infection with \\nEpstein-Barr virus (EBV) or parvovirus B19, but several \\n'}, {'entity': 'Enzyme', 'start_context': 317, 'end_context': 338, 'label': 'SO', 'context': '\\nthe endothelium by engaging the Angiotensin-Convert -\\ning Enzyme (ACE) 2 receptor [15]. In'}, {'entity': 'vascular endothelial cell', 'start_context': 336, 'end_context': 359, 'label': 'CL', 'context': '. In acute COVID-19, \\nthere is evidence for vascular endothelial cell infection, \\nendotheliitis and microthrombosis across multiple vascu -'}, {'entity': 'vascu', 'start_context': 347, 'end_context': 368, 'label': 'SO', 'context': 'endothelial cell infection, \\nendotheliitis and microthrombosis across multiple vascu -\\nlarized tissues [16, 17].'}, {'entity': 'Endothelin-1 (', 'start_context': 405, 'end_context': 427, 'label': 'GGP', 'context': '\\naddition, we analysed several endothelial biomarkers \\nincluding Endothelin-1 (ET-1), Angiopoietin-2 (Ang-\\n2) and'}, {'entity': 'Angiopoietin-2', 'start_context': 410, 'end_context': 431, 'label': 'GGP', 'context': 'several endothelial biomarkers \\nincluding Endothelin-1 (ET-1), Angiopoietin-2 (Ang-\\n2) and Endocan (ESM-1)'}, {'entity': 'Endocan', 'start_context': 417, 'end_context': 438, 'label': 'GGP', 'context': 'ET-1), Angiopoietin-2 (Ang-\\n2) and Endocan (ESM-1) which play an important role \\nin'}, {'entity': 'ESM-1', 'start_context': 419, 'end_context': 440, 'label': 'GGP', 'context': ', Angiopoietin-2 (Ang-\\n2) and Endocan (ESM-1) which play an important role \\nin inflammatory and'}, {'entity': 'associ -\\n', 'start_context': 432, 'end_context': 455, 'label': 'GGP', 'context': 'play an important role \\nin inflammatory and noninflammatory diseases associ -\\nated with ED [18–22]. Furthermore, we'}, {'entity': 'leukin 8', 'start_context': 449, 'end_context': 471, 'label': 'GGP', 'context': '18–22]. Furthermore, we assessed Inter -\\nleukin 8 (IL-8), Angiotensin-Converting Enzyme (ACE) \\n'}, {'entity': 'Enzyme', 'start_context': 317, 'end_context': 338, 'label': 'SO', 'context': '\\nthe endothelium by engaging the Angiotensin-Convert -\\ning Enzyme (ACE) 2 receptor [15]. In'}, {'entity': 'ACE2', 'start_context': 462, 'end_context': 483, 'label': 'GGP', 'context': 'IL-8), Angiotensin-Converting Enzyme (ACE) \\nand ACE2. IL-8 is secreted not only by monocytes/\\nmacrophages'}, {'entity': 'IL-8', 'start_context': 464, 'end_context': 485, 'label': 'GGP', 'context': ', Angiotensin-Converting Enzyme (ACE) \\nand ACE2. IL-8 is secreted not only by monocytes/\\nmacrophages but also'}, {'entity': 'macrophages', 'start_context': 472, 'end_context': 493, 'label': 'CL', 'context': 'ACE2. IL-8 is secreted not only by monocytes/\\nmacrophages but also by endothelial cells and vascular \\nsmooth muscle'}, {'entity': 'endothelial cells', 'start_context': 476, 'end_context': 498, 'label': 'CL', 'context': 'secreted not only by monocytes/\\nmacrophages but also by endothelial cells and vascular \\nsmooth muscle cells. This chemokine plays'}, {'entity': 'smooth muscle cells', 'start_context': 481, 'end_context': 504, 'label': 'CL', 'context': '\\nmacrophages but also by endothelial cells and vascular \\nsmooth muscle cells. This chemokine plays an impor -\\ntant role'}, {'entity': 'leukocyte', 'start_context': 503, 'end_context': 524, 'label': 'CL', 'context': 'role in (endothelial) inflammation and regulation \\nof leukocyte rolling as well as vascular permeability \\n[23]'}, {'entity': 'ACE2', 'start_context': 462, 'end_context': 483, 'label': 'GGP', 'context': 'IL-8), Angiotensin-Converting Enzyme (ACE) \\nand ACE2. IL-8 is secreted not only by monocytes/\\nmacrophages'}, {'entity': 'angiotensin II', 'start_context': 546, 'end_context': 568, 'label': 'GGP', 'context': '. \\nACE converts angiotensin I into the vasoconstrictive \\nangiotensin II, which activates angiotensin II receptors. Counterregulatory ACE2 cleaves'}, {'entity': 'angiotensin II receptors', 'start_context': 551, 'end_context': 574, 'label': 'GGP', 'context': 'I into the vasoconstrictive \\nangiotensin II, which activates angiotensin II receptors. Counterregulatory ACE2 cleaves angiotensin I into angi -\\n'}, {'entity': 'ACE2', 'start_context': 462, 'end_context': 483, 'label': 'GGP', 'context': 'IL-8), Angiotensin-Converting Enzyme (ACE) \\nand ACE2. IL-8 is secreted not only by monocytes/\\nmacrophages'}, {'entity': 'angiotensin I', 'start_context': 558, 'end_context': 580, 'label': 'GGP', 'context': ', which activates angiotensin II receptors. Counterregulatory ACE2 cleaves angiotensin I into angi -\\notensin 1–9 and metabolises angiotensin II'}, {'entity': 'angioten -\\n', 'start_context': 571, 'end_context': 594, 'label': 'GGP', 'context': 'angi -\\notensin 1–9 and metabolises angiotensin II to angioten -\\nsin 1–7. Peptides generated by ACE2 are ligands of'}, {'entity': 'Peptides', 'start_context': 577, 'end_context': 598, 'label': 'SO', 'context': 'metabolises angiotensin II to angioten -\\nsin 1–7. Peptides generated by ACE2 are ligands of the \\nreceptor Mas'}, {'entity': 'ACE2', 'start_context': 462, 'end_context': 483, 'label': 'GGP', 'context': 'IL-8), Angiotensin-Converting Enzyme (ACE) \\nand ACE2. IL-8 is secreted not only by monocytes/\\nmacrophages'}, {'entity': 'antibodies', 'start_context': 810, 'end_context': 831, 'label': 'GO', 'context': 'recruited before SARS-COV-2 vaccination \\nand were negative for SARS-CoV-2 antibodies tested by \\nAnti-SARS-CoV-2-spike IgG-ELISA (Euroimmune). The'}]\n",
      "[{'entity': 'house', 'start_context': 246, 'end_context': 267, 'label': 'TAXON', 'context': 'syndrome, with one quarter of those\\ndiagnosed being house or bed bound [ 30]. Within the general'}, {'entity': 'individuals', 'start_context': 387, 'end_context': 408, 'label': 'TAXON', 'context': 'the illness among young workers, with the implication of individuals\\ntrying to get out of their job responsibilities.'}, {'entity': 'toxin', 'start_context': 782, 'end_context': 803, 'label': 'CHEBI', 'context': 'or major life event, and exposure to an environmental toxin [ 32]. Several studies\\nhave shown that'}, {'entity': 'virus', 'start_context': 866, 'end_context': 887, 'label': 'TAXON', 'context': 'chronic fatigue syndrome\\nincludes infection with Epstein–Barr virus (EBV), being highly studied in this setting'}]\n"
     ]
    }
   ],
   "source": [
    "#chekc how they handle body text pages\n",
    "output_enfo = extract_entities_with_context('en_ner_craft_md', enfo_txt, 10)\n",
    "output_mecfs = extract_entities_with_context('en_ner_craft_md', mecfs_txt, 10)"
   ]
  },
  {
   "cell_type": "code",
   "execution_count": 47,
   "metadata": {},
   "outputs": [
    {
     "name": "stdout",
     "output_type": "stream",
     "text": [
      "[{'entity': 'Rot A. Duffy antigen receptor', 'start_context': 152, 'end_context': 177, 'label': 'GGP', 'context': 'Hypertens. 2020;38(9):1682–98.\\n 48. Novitzky‑Basso I, Rot A. Duffy antigen receptor for chemokines and its \\ninvolvement in patterning and control'}, {'entity': 'interleukin 8', 'start_context': 204, 'end_context': 226, 'label': 'GGP', 'context': 'Bont ES. \\nEndothelial cells are main producers of interleukin 8 through Toll‑like \\nreceptor 2 and 4 signaling during bacterial'}, {'entity': 'Toll‑like \\nreceptor 2', 'start_context': 207, 'end_context': 231, 'label': 'GGP', 'context': '\\nEndothelial cells are main producers of interleukin 8 through Toll‑like \\nreceptor 2 and 4 signaling during bacterial infection in leukopenic cancer \\n'}, {'entity': 'bacterial', 'start_context': 215, 'end_context': 236, 'label': 'TAXON', 'context': '8 through Toll‑like \\nreceptor 2 and 4 signaling during bacterial infection in leukopenic cancer \\npatients. Clin Diagn Lab'}, {'entity': 'tight junction', 'start_context': 261, 'end_context': 283, 'label': 'GO', 'context': 'et al. Interleukin‑8 regulates \\nendothelial permeability by down‑regulation of tight junction but \\nnot dependent on integrins induced focal adhesions.'}, {'entity': 'integrins', 'start_context': 268, 'end_context': 289, 'label': 'GO', 'context': 'by down‑regulation of tight junction but \\nnot dependent on integrins induced focal adhesions. Int J Biol Sci. \\n'}, {'entity': 'focal adhesions', 'start_context': 270, 'end_context': 292, 'label': 'GO', 'context': 'of tight junction but \\nnot dependent on integrins induced focal adhesions. Int J Biol Sci. \\n2013;9(9):966–79.\\n '}, {'entity': 'Coronavirus', 'start_context': 313, 'end_context': 334, 'label': 'TAXON', 'context': 'al. Interleukin‑8 as a Biomarker for \\nDisease Prognosis of Coronavirus Disease ‑2019 Patients. Front Immunol. \\n2021;11:'}]\n",
      "[{'entity': 'Mitchell', 'start_context': 141, 'end_context': 162, 'label': 'GGP', 'context': 'K.L.; Klimas, N.G.; Broderick, G.; Mitchell, T.; Staines, D.; Powles, A.C.'}, {'entity': 'autoantibodies', 'start_context': 274, 'end_context': 295, 'label': 'GO', 'context': 'O.D.; Shoenfeld, Y. Infection, vaccination, and autoantibodies in chronic fatigue syndrome, cause or coinci-\\ndence'}, {'entity': 'Oronsky', 'start_context': 364, 'end_context': 385, 'label': 'GGP', 'context': 'B.; Larson, C.; Hammond, T.C.; Oronsky, A.; Kesari, S.; Lybeck, M.'}, {'entity': 'Hällqvist', 'start_context': 410, 'end_context': 431, 'label': 'CHEBI', 'context': '[CrossRef]\\n77. Doykov, I.; Hällqvist, J.; Gilmour, K.C.; Grandjean, L.'}, {'entity': 'mitochondria', 'start_context': 480, 'end_context': 501, 'label': 'GO', 'context': '; Hall, K.H.; Tate, W. Role of mitochondria, oxidative stress and the response to antioxidants in myalgic'}, {'entity': 'antioxidants', 'start_context': 488, 'end_context': 509, 'label': 'CHEBI', 'context': 'Role of mitochondria, oxidative stress and the response to antioxidants in myalgic encephalomyeli-\\ntis/chronic fatigue syndrome: A possible'}, {'entity': 'D.', 'start_context': 528, 'end_context': 549, 'label': 'TAXON', 'context': '.\\n[CrossRef]\\n79. Gupta, D. Almost A Third of People with ‘Mild’ COVID-19'}, {'entity': 'T.', 'start_context': 614, 'end_context': 635, 'label': 'TAXON', 'context': '17 March 2021).\\n81. Waldrop, T. Clinics Are Springing up around the Country for What Some'}, {'entity': 'T.', 'start_context': 614, 'end_context': 635, 'label': 'TAXON', 'context': '17 March 2021).\\n81. Waldrop, T. Clinics Are Springing up around the Country for What Some'}, {'entity': 'Primer', 'start_context': 761, 'end_context': 782, 'label': 'SO', 'context': ', T.; Knight, M. Long COVID: A Primer for Family Physicians. Am. Fam. Physician 2020'}, {'entity': 'Sunnquist', 'start_context': 941, 'end_context': 962, 'label': 'TAXON', 'context': '[PubMed]\\n89. O’Connor, K.; Sunnquist, M.; Nicholson, L.; Jason, L.A.'}]\n"
     ]
    }
   ],
   "source": [
    "#check how they handle reference / biblography pages\n",
    "output_enfo = extract_entities_with_context('en_ner_craft_md', enfo_ref, 10)\n",
    "output_mecfs = extract_entities_with_context('en_ner_craft_md', mecfs_ref, 10)"
   ]
  },
  {
   "attachments": {},
   "cell_type": "markdown",
   "metadata": {},
   "source": [
    "Conclusion: extracts quite generic entities like virus, house; the entity types are not very domain-specific (biological pathways, gene ontology etc); errors very visible in the outputs for reference texts (eg classifying names as CHEBI or GGP entities), difficult to recognize errors from actual entities as they are very domain-specific "
   ]
  },
  {
   "attachments": {},
   "cell_type": "markdown",
   "metadata": {},
   "source": [
    "### en_ner_jnlpba_md\n",
    "Following entity types: DNA, CELL_TYPE, CELL_LINE, RNA, PROTEIN"
   ]
  },
  {
   "cell_type": "code",
   "execution_count": 48,
   "metadata": {},
   "outputs": [
    {
     "name": "stdout",
     "output_type": "stream",
     "text": [
      "[{'entity': 'PA-COVID', 'start_context': 45, 'end_context': 66, 'label': 'PROTEIN', 'context': '\\nimpacting everyday functioning.\\nIn our observational longitudinal PA-COVID Fatigue \\nstudy of PCS patients with persistent moderate to'}, {'entity': 'Enzyme (ACE) 2 receptor', 'start_context': 317, 'end_context': 343, 'label': 'PROTEIN', 'context': '\\nthe endothelium by engaging the Angiotensin-Convert -\\ning Enzyme (ACE) 2 receptor [15]. In acute COVID-19, \\nthere'}, {'entity': 'peripheral \\n', 'start_context': 367, 'end_context': 389, 'label': 'CELL_TYPE', 'context': '.\\nIn this study, we aimed to characterise peripheral \\nendothelial function using postocclusive reactive hyper -\\naemia peripheral'}, {'entity': 'PCS', 'start_context': 385, 'end_context': 406, 'label': 'CELL_LINE', 'context': '-\\naemia peripheral arterial tonometry (RH-PAT) in PCS \\npatients following mild to moderate COVID-19. In \\n'}, {'entity': 'ET-1', 'start_context': 407, 'end_context': 428, 'label': 'PROTEIN', 'context': ', we analysed several endothelial biomarkers \\nincluding Endothelin-1 (ET-1), Angiopoietin-2 (Ang-\\n2) and Endocan'}, {'entity': 'Angiopoietin-2', 'start_context': 410, 'end_context': 431, 'label': 'PROTEIN', 'context': 'several endothelial biomarkers \\nincluding Endothelin-1 (ET-1), Angiopoietin-2 (Ang-\\n2) and Endocan (ESM-1)'}, {'entity': 'ESM-1', 'start_context': 419, 'end_context': 440, 'label': 'PROTEIN', 'context': ', Angiopoietin-2 (Ang-\\n2) and Endocan (ESM-1) which play an important role \\nin inflammatory and'}, {'entity': 'associ', 'start_context': 432, 'end_context': 453, 'label': 'PROTEIN', 'context': 'play an important role \\nin inflammatory and noninflammatory diseases associ -\\nated with ED [18–22]. Furthermore'}, {'entity': 'IL-8', 'start_context': 452, 'end_context': 473, 'label': 'PROTEIN', 'context': 'Furthermore, we assessed Inter -\\nleukin 8 (IL-8), Angiotensin-Converting Enzyme (ACE) \\nand ACE2'}, {'entity': 'Angiotensin-Converting Enzyme (ACE) \\n', 'start_context': 455, 'end_context': 481, 'label': 'PROTEIN', 'context': 'assessed Inter -\\nleukin 8 (IL-8), Angiotensin-Converting Enzyme (ACE) \\nand ACE2. IL-8 is secreted not only by monocytes/'}, {'entity': 'ACE2', 'start_context': 462, 'end_context': 483, 'label': 'PROTEIN', 'context': 'IL-8), Angiotensin-Converting Enzyme (ACE) \\nand ACE2. IL-8 is secreted not only by monocytes/\\nmacrophages'}, {'entity': 'IL-8', 'start_context': 452, 'end_context': 473, 'label': 'PROTEIN', 'context': 'Furthermore, we assessed Inter -\\nleukin 8 (IL-8), Angiotensin-Converting Enzyme (ACE) \\nand ACE2'}, {'entity': 'monocytes/\\nmacrophages', 'start_context': 470, 'end_context': 493, 'label': 'CELL_TYPE', 'context': '\\nand ACE2. IL-8 is secreted not only by monocytes/\\nmacrophages but also by endothelial cells and vascular \\nsmooth muscle'}, {'entity': 'endothelial cells', 'start_context': 476, 'end_context': 498, 'label': 'CELL_TYPE', 'context': 'secreted not only by monocytes/\\nmacrophages but also by endothelial cells and vascular \\nsmooth muscle cells. This chemokine plays'}, {'entity': 'vascular \\nsmooth muscle cells', 'start_context': 479, 'end_context': 504, 'label': 'CELL_TYPE', 'context': 'by monocytes/\\nmacrophages but also by endothelial cells and vascular \\nsmooth muscle cells. This chemokine plays an impor -\\ntant role'}, {'entity': 'chemokine', 'start_context': 486, 'end_context': 507, 'label': 'PROTEIN', 'context': 'endothelial cells and vascular \\nsmooth muscle cells. This chemokine plays an impor -\\ntant role in (endothelial'}, {'entity': 'ACE', 'start_context': 515, 'end_context': 536, 'label': 'PROTEIN', 'context': 'as well as vascular permeability \\n[23]. ACE and ACE2 are crucial actors in the mainte -\\n'}, {'entity': 'ACE2', 'start_context': 462, 'end_context': 483, 'label': 'PROTEIN', 'context': 'IL-8), Angiotensin-Converting Enzyme (ACE) \\nand ACE2. IL-8 is secreted not only by monocytes/\\nmacrophages'}, {'entity': 'angiotensin I', 'start_context': 540, 'end_context': 562, 'label': 'PROTEIN', 'context': 'and vascular homeostasis [2]. \\nACE converts angiotensin I into the vasoconstrictive \\nangiotensin II, which activates angiotensin'}, {'entity': 'vasoconstrictive \\nangiotensin II', 'start_context': 544, 'end_context': 568, 'label': 'PROTEIN', 'context': '2]. \\nACE converts angiotensin I into the vasoconstrictive \\nangiotensin II, which activates angiotensin II receptors. Counterregulatory ACE2 cleaves'}, {'entity': 'angiotensin II receptors', 'start_context': 551, 'end_context': 574, 'label': 'PROTEIN', 'context': 'I into the vasoconstrictive \\nangiotensin II, which activates angiotensin II receptors. Counterregulatory ACE2 cleaves angiotensin I into angi -\\n'}, {'entity': 'Counterregulatory ACE2', 'start_context': 555, 'end_context': 577, 'label': 'PROTEIN', 'context': '\\nangiotensin II, which activates angiotensin II receptors. Counterregulatory ACE2 cleaves angiotensin I into angi -\\notensin 1–9 and'}, {'entity': 'angiotensin I', 'start_context': 540, 'end_context': 562, 'label': 'PROTEIN', 'context': 'and vascular homeostasis [2]. \\nACE converts angiotensin I into the vasoconstrictive \\nangiotensin II, which activates angiotensin'}, {'entity': 'angiotensin II', 'start_context': 568, 'end_context': 590, 'label': 'PROTEIN', 'context': 'angiotensin I into angi -\\notensin 1–9 and metabolises angiotensin II to angioten -\\nsin 1–7. Peptides generated by'}, {'entity': 'ACE2', 'start_context': 462, 'end_context': 483, 'label': 'PROTEIN', 'context': 'IL-8), Angiotensin-Converting Enzyme (ACE) \\nand ACE2. IL-8 is secreted not only by monocytes/\\nmacrophages'}, {'entity': 'PEM', 'start_context': 704, 'end_context': 725, 'label': 'PROTEIN', 'context': '\\xa0h (instead of 24\\xa0h) of PEM was \\nrequired for the diagnosis of ME/CFS [26'}, {'entity': 'antibodies', 'start_context': 810, 'end_context': 831, 'label': 'PROTEIN', 'context': 'recruited before SARS-COV-2 vaccination \\nand were negative for SARS-CoV-2 antibodies tested by \\nAnti-SARS-CoV-2-spike IgG-ELISA (Euroimmune). The'}, {'entity': 'RHI', 'start_context': 978, 'end_context': 999, 'label': 'PROTEIN', 'context': 'minutes using an inflatable blood \\npressure cuff. The RHI was calculated from the change in \\nthe pulse wave'}, {'entity': 'occluded arm', 'start_context': 999, 'end_context': 1021, 'label': 'DNA', 'context': 'amplitude (PWA) relative to baseline in \\nthe occluded arm and was corrected for corresponding \\nchanges in PWA relative'}, {'entity': 'contra-lateral, \\nnonoccluded arm', 'start_context': 1015, 'end_context': 1040, 'label': 'PROTEIN', 'context': 'corresponding \\nchanges in PWA relative to baseline in the contra-lateral, \\nnonoccluded arm in order to minimise the influence of \\nnonendothelial dependent'}, {'entity': 'RHI', 'start_context': 978, 'end_context': 999, 'label': 'PROTEIN', 'context': 'minutes using an inflatable blood \\npressure cuff. The RHI was calculated from the change in \\nthe pulse wave'}]\n",
      "[{'entity': 'long\\nCOVID', 'start_context': 67, 'end_context': 90, 'label': 'DNA', 'context': 'SARS-COV-2 [ 20,21]. Research into the prevalence of long\\nCOVID is ongoing, but one study has estimated that over'}, {'entity': 'COVID', 'start_context': 107, 'end_context': 128, 'label': 'CELL_LINE', 'context': 'COVID symptom onset [ 22].The\\nrisk for developing long COVID does not appear to be correlated with the severity of'}, {'entity': 'COVID', 'start_context': 107, 'end_context': 128, 'label': 'CELL_LINE', 'context': 'COVID symptom onset [ 22].The\\nrisk for developing long COVID does not appear to be correlated with the severity of'}, {'entity': 'common precipitating factors', 'start_context': 759, 'end_context': 782, 'label': 'PROTEIN', 'context': 'on the causes of ME/CFS, the\\nthree most common precipitating factors have been demonstrated to be infectious illness,\\nstress'}]\n"
     ]
    }
   ],
   "source": [
    "#chekc how they handle body text pages\n",
    "output_enfo = extract_entities_with_context('en_ner_jnlpba_md', enfo_txt, 10)\n",
    "output_mecfs = extract_entities_with_context('en_ner_jnlpba_md', mecfs_txt, 10)"
   ]
  },
  {
   "cell_type": "code",
   "execution_count": 49,
   "metadata": {},
   "outputs": [
    {
     "name": "stdout",
     "output_type": "stream",
     "text": [
      "[{'entity': 'Page 11 of 11\\n Haffke', 'start_context': 0, 'end_context': 16, 'label': 'PROTEIN', 'context': 'Page 11 of 11\\n Haffke\\xa0et\\xa0al. Journal of Translational Medicine          ('}, {'entity': 'BMC', 'start_context': 109, 'end_context': 130, 'label': 'CELL_TYPE', 'context': 'to submit y our researc h  ?  Choose BMC and benefit fr om: ?  Choose BMC and'}, {'entity': 'BMC', 'start_context': 109, 'end_context': 130, 'label': 'CELL_TYPE', 'context': 'to submit y our researc h  ?  Choose BMC and benefit fr om: ?  Choose BMC and'}, {'entity': 'Novitzky‑Basso I', 'start_context': 149, 'end_context': 171, 'label': 'PROTEIN', 'context': 'society. J Hypertens. 2020;38(9):1682–98.\\n 48. Novitzky‑Basso I, Rot A. Duffy antigen receptor for chemokines and its'}, {'entity': 'Rot A. Duffy antigen receptor', 'start_context': 152, 'end_context': 177, 'label': 'PROTEIN', 'context': 'Hypertens. 2020;38(9):1682–98.\\n 48. Novitzky‑Basso I, Rot A. Duffy antigen receptor for chemokines and its \\ninvolvement in patterning and control'}, {'entity': 'chemokines', 'start_context': 158, 'end_context': 179, 'label': 'PROTEIN', 'context': '. Novitzky‑Basso I, Rot A. Duffy antigen receptor for chemokines and its \\ninvolvement in patterning and control of inflammatory'}, {'entity': 'inflammatory chemokines', 'start_context': 168, 'end_context': 190, 'label': 'PROTEIN', 'context': 'chemokines and its \\ninvolvement in patterning and control of inflammatory chemokines. \\nFront Immunol. 2012;3:266.\\n 49.'}, {'entity': 'interleukin 8', 'start_context': 204, 'end_context': 226, 'label': 'PROTEIN', 'context': 'Bont ES. \\nEndothelial cells are main producers of interleukin 8 through Toll‑like \\nreceptor 2 and 4 signaling during bacterial'}, {'entity': 'Toll‑like \\nreceptor 2', 'start_context': 207, 'end_context': 231, 'label': 'PROTEIN', 'context': '\\nEndothelial cells are main producers of interleukin 8 through Toll‑like \\nreceptor 2 and 4 signaling during bacterial infection in leukopenic cancer \\n'}, {'entity': 'Ma Y', 'start_context': 239, 'end_context': 261, 'label': 'DNA', 'context': '.\\n 50. Yu H, Huang X, Ma Y, Gao M, Wang O, Gao T,'}, {'entity': 'Interleukin‑8', 'start_context': 253, 'end_context': 274, 'label': 'DNA', 'context': 'M, Wang O, Gao T, et al. Interleukin‑8 regulates \\nendothelial permeability by down‑regulation of tight junction but'}, {'entity': 'integrins', 'start_context': 268, 'end_context': 289, 'label': 'PROTEIN', 'context': 'by down‑regulation of tight junction but \\nnot dependent on integrins induced focal adhesions. Int J Biol Sci. \\n'}, {'entity': 'Interleukin‑8', 'start_context': 253, 'end_context': 274, 'label': 'DNA', 'context': 'M, Wang O, Gao T, et al. Interleukin‑8 regulates \\nendothelial permeability by down‑regulation of tight junction but'}]\n",
      "[{'entity': 'DC', 'start_context': 45, 'end_context': 66, 'label': 'CELL_TYPE', 'context': '; National\\nAcademies Press (US): Washington, DC, USA, 2015.\\n70. Fukuda,'}, {'entity': 'Ortega-Hernandez, O.D.;', 'start_context': 262, 'end_context': 286, 'label': 'PROTEIN', 'context': '. [CrossRef] [PubMed]\\n74. Ortega-Hernandez, O.D.; Shoenfeld, Y. Infection, vaccination, and autoantibodies in'}, {'entity': 'autoantibodies', 'start_context': 274, 'end_context': 295, 'label': 'PROTEIN', 'context': 'O.D.; Shoenfeld, Y. Infection, vaccination, and autoantibodies in chronic fatigue syndrome, cause or coinci-\\ndence'}, {'entity': 'https://www.cnn.com/2021/02/19/health/post-covid-syndrome-long-haulers-gupta-\\nwellness/index.html', 'start_context': 558, 'end_context': 581, 'label': 'PROTEIN', 'context': 'Retrieved\\n17 March 2021 ). Available online: https://www.cnn.com/2021/02/19/health/post-covid-syndrome-long-haulers-gupta-\\nwellness/index.html (accessed on 17 March 2021).\\n80'}, {'entity': 'Long-Haulers', 'start_context': 573, 'end_context': 594, 'label': 'DNA', 'context': 'on 17 March 2021).\\n80. COVID Long-Haulers Plagued by Symptoms as Experts Seek Answers (Retrieved 17'}]\n"
     ]
    }
   ],
   "source": [
    "#check how they handle reference / biblography pages\n",
    "output_enfo = extract_entities_with_context('en_ner_jnlpba_md', enfo_ref, 10)\n",
    "output_mecfs = extract_entities_with_context('en_ner_jnlpba_md', mecfs_ref, 10)"
   ]
  },
  {
   "attachments": {},
   "cell_type": "markdown",
   "metadata": {},
   "source": [
    "Conclusion: extracted entities are not as generic but clear errors occur - eg classifying PA-covid and long covid as protein or DNA; the entity types seem more specific for biological purposes and are quite self-explanatory. errors again visible in the outputs for reference texts (eg classifying page count as protein) "
   ]
  },
  {
   "attachments": {},
   "cell_type": "markdown",
   "metadata": {},
   "source": [
    "### en_ner_bc5cdr_md\n",
    "Following entity types: \n",
    "DISEASE, CHEMICAL"
   ]
  },
  {
   "cell_type": "code",
   "execution_count": 50,
   "metadata": {},
   "outputs": [
    {
     "name": "stdout",
     "output_type": "stream",
     "text": [
      "[{'entity': 'fatigue', 'start_context': 27, 'end_context': 48, 'label': 'DISEASE', 'context': 'the onset of \\nCOVID-19 with common symptoms such as fatigue, \\npost-exertional malaise and cognitive dysfunction \\nimpacting everyday'}, {'entity': 'post-exertional malaise', 'start_context': 30, 'end_context': 52, 'label': 'DISEASE', 'context': '\\nCOVID-19 with common symptoms such as fatigue, \\npost-exertional malaise and cognitive dysfunction \\nimpacting everyday functioning.\\nIn'}, {'entity': 'cognitive dysfunction', 'start_context': 33, 'end_context': 55, 'label': 'DISEASE', 'context': 'common symptoms such as fatigue, \\npost-exertional malaise and cognitive dysfunction \\nimpacting everyday functioning.\\nIn our observational longitudinal'}, {'entity': 'Fatigue', 'start_context': 46, 'end_context': 67, 'label': 'DISEASE', 'context': 'impacting everyday functioning.\\nIn our observational longitudinal PA-COVID Fatigue \\nstudy of PCS patients with persistent moderate to \\n'}, {'entity': 'fatigue', 'start_context': 27, 'end_context': 48, 'label': 'DISEASE', 'context': 'the onset of \\nCOVID-19 with common symptoms such as fatigue, \\npost-exertional malaise and cognitive dysfunction \\nimpacting everyday'}, {'entity': 'tic', 'start_context': 89, 'end_context': 110, 'label': 'DISEASE', 'context': 'approximately 50% of patients fulfilled the diagnos -\\ntic criteria of Myalgic Encephalomyelitis/Chronic Fatigue \\nSyndrome (ME/CFS)'}, {'entity': 'Fatigue', 'start_context': 46, 'end_context': 67, 'label': 'DISEASE', 'context': 'impacting everyday functioning.\\nIn our observational longitudinal PA-COVID Fatigue \\nstudy of PCS patients with persistent moderate to \\n'}, {'entity': 'infection', 'start_context': 129, 'end_context': 150, 'label': 'DISEASE', 'context': 'ME/CFS is a \\ncomplex disease frequently triggered by an infection with \\nEpstein-Barr virus (EBV) or parvovirus B19'}, {'entity': 'Postexertional malaise', 'start_context': 157, 'end_context': 179, 'label': 'DISEASE', 'context': 'nonviral triggers have been described \\n[5–7]. Postexertional malaise (PEM), which describes a \\ndisproportional aggravation'}, {'entity': 'vasoconstrictors', 'start_context': 263, 'end_context': 284, 'label': 'CHEMICAL', 'context': 'lators, while on the other hand, endothelium-derived \\nvasoconstrictors are increased, leading to impaired \\nendothelium-dependent vasodilation ['}, {'entity': 'infection', 'start_context': 129, 'end_context': 150, 'label': 'DISEASE', 'context': 'ME/CFS is a \\ncomplex disease frequently triggered by an infection with \\nEpstein-Barr virus (EBV) or parvovirus B19'}, {'entity': 'infection', 'start_context': 129, 'end_context': 150, 'label': 'DISEASE', 'context': 'ME/CFS is a \\ncomplex disease frequently triggered by an infection with \\nEpstein-Barr virus (EBV) or parvovirus B19'}, {'entity': 'endotheliitis', 'start_context': 342, 'end_context': 363, 'label': 'DISEASE', 'context': 'there is evidence for vascular endothelial cell infection, \\nendotheliitis and microthrombosis across multiple vascu -\\nlarized tissues ['}, {'entity': 'microthrombosis', 'start_context': 344, 'end_context': 365, 'label': 'DISEASE', 'context': 'evidence for vascular endothelial cell infection, \\nendotheliitis and microthrombosis across multiple vascu -\\nlarized tissues [16,'}, {'entity': 'ated', 'start_context': 435, 'end_context': 456, 'label': 'CHEMICAL', 'context': 'role \\nin inflammatory and noninflammatory diseases associ -\\nated with ED [18–22]. Furthermore, we assessed'}, {'entity': 'inflammation', 'start_context': 498, 'end_context': 519, 'label': 'DISEASE', 'context': 'an impor -\\ntant role in (endothelial) inflammation and regulation \\nof leukocyte rolling as well as vascular'}, {'entity': 'angiotensin', 'start_context': 540, 'end_context': 561, 'label': 'CHEMICAL', 'context': 'and vascular homeostasis [2]. \\nACE converts angiotensin I into the vasoconstrictive \\nangiotensin II, which activates'}, {'entity': 'angiotensin II', 'start_context': 546, 'end_context': 568, 'label': 'CHEMICAL', 'context': '. \\nACE converts angiotensin I into the vasoconstrictive \\nangiotensin II, which activates angiotensin II receptors. Counterregulatory ACE2 cleaves'}, {'entity': 'angiotensin II', 'start_context': 546, 'end_context': 568, 'label': 'CHEMICAL', 'context': '. \\nACE converts angiotensin I into the vasoconstrictive \\nangiotensin II, which activates angiotensin II receptors. Counterregulatory ACE2 cleaves'}, {'entity': 'angiotensin', 'start_context': 540, 'end_context': 561, 'label': 'CHEMICAL', 'context': 'and vascular homeostasis [2]. \\nACE converts angiotensin I into the vasoconstrictive \\nangiotensin II, which activates'}, {'entity': 'angiotensin II', 'start_context': 546, 'end_context': 568, 'label': 'CHEMICAL', 'context': '. \\nACE converts angiotensin I into the vasoconstrictive \\nangiotensin II, which activates angiotensin II receptors. Counterregulatory ACE2 cleaves'}, {'entity': 'fatigue', 'start_context': 27, 'end_context': 48, 'label': 'DISEASE', 'context': 'the onset of \\nCOVID-19 with common symptoms such as fatigue, \\npost-exertional malaise and cognitive dysfunction \\nimpacting everyday'}, {'entity': 'L. Jason', 'start_context': 682, 'end_context': 704, 'label': 'CHEMICAL', 'context': 'original classification \\nand in accordance with the studies of L. Jason and col -\\nleagues, a minimum of 14'}, {'entity': 'tic', 'start_context': 89, 'end_context': 110, 'label': 'DISEASE', 'context': 'approximately 50% of patients fulfilled the diagnos -\\ntic criteria of Myalgic Encephalomyelitis/Chronic Fatigue \\nSyndrome (ME/CFS)'}, {'entity': 'infection', 'start_context': 129, 'end_context': 150, 'label': 'DISEASE', 'context': 'ME/CFS is a \\ncomplex disease frequently triggered by an infection with \\nEpstein-Barr virus (EBV) or parvovirus B19'}, {'entity': 'Hyperaemia', 'start_context': 954, 'end_context': 975, 'label': 'DISEASE', 'context': 'of each hand during reactive hyper -\\naemia. Hyperaemia was induced by occlusion of the left \\nbrachial artery'}, {'entity': 'occlusion of the left \\nbrachial artery', 'start_context': 958, 'end_context': 985, 'label': 'DISEASE', 'context': 'reactive hyper -\\naemia. Hyperaemia was induced by occlusion of the left \\nbrachial artery over 5\\xa0minutes using an inflatable blood \\npressure'}]\n",
      "[{'entity': 'COVID syndrome', 'start_context': 0, 'end_context': 22, 'label': 'DISEASE', 'context': 'Medicina 2021 ,57, 418 2 of 14\\nCOVID syndrome [ 18], and more recently, post-acute sequelae'}, {'entity': 'sequelae of SARS-COV-2 infection', 'start_context': 11, 'end_context': 35, 'label': 'DISEASE', 'context': 'syndrome [ 18], and more recently, post-acute sequelae of SARS-COV-2 infection\\n(PASC) [ 19]. There is'}, {'entity': 'infection', 'start_context': 55, 'end_context': 76, 'label': 'DISEASE', 'context': 'signs and symptoms more than four\\nweeks after initial infection with SARS-COV-2 [ 20,21]. Research into the prevalence'}, {'entity': 'fatigue', 'start_context': 182, 'end_context': 203, 'label': 'DISEASE', 'context': 'but lesser-known chronic medical condition: myalgic en-\\ncephalomyelitis/chronic fatigue syndrome (ME/CFS) [ 27–29]. ME/CFS is'}, {'entity': 'fatigue', 'start_context': 182, 'end_context': 203, 'label': 'DISEASE', 'context': 'but lesser-known chronic medical condition: myalgic en-\\ncephalomyelitis/chronic fatigue syndrome (ME/CFS) [ 27–29]. ME/CFS is'}, {'entity': 'illness', 'start_context': 211, 'end_context': 232, 'label': 'DISEASE', 'context': 'least six months of fatigue and exhaustion. This\\nillness is estimated to account for USD 18–51 billion dollars in'}, {'entity': 'fatigue', 'start_context': 182, 'end_context': 203, 'label': 'DISEASE', 'context': 'but lesser-known chronic medical condition: myalgic en-\\ncephalomyelitis/chronic fatigue syndrome (ME/CFS) [ 27–29]. ME/CFS is'}, {'entity': 'tic', 'start_context': 282, 'end_context': 303, 'label': 'DISEASE', 'context': 'Despite this, due to a lack in diagnos-\\ntic testing without consistent and established treatments, there has been'}, {'entity': 'fatigue', 'start_context': 182, 'end_context': 203, 'label': 'DISEASE', 'context': 'but lesser-known chronic medical condition: myalgic en-\\ncephalomyelitis/chronic fatigue syndrome (ME/CFS) [ 27–29]. ME/CFS is'}, {'entity': 'fatigue', 'start_context': 182, 'end_context': 203, 'label': 'DISEASE', 'context': 'but lesser-known chronic medical condition: myalgic en-\\ncephalomyelitis/chronic fatigue syndrome (ME/CFS) [ 27–29]. ME/CFS is'}, {'entity': 'Flu', 'start_context': 371, 'end_context': 392, 'label': 'CHEMICAL', 'context': 'were described as a derogatory term known as the Yuppie Flu, which\\ninitially characterized the illness among young workers'}, {'entity': 'illness', 'start_context': 211, 'end_context': 232, 'label': 'DISEASE', 'context': 'least six months of fatigue and exhaustion. This\\nillness is estimated to account for USD 18–51 billion dollars in'}, {'entity': 'illness', 'start_context': 211, 'end_context': 232, 'label': 'DISEASE', 'context': 'least six months of fatigue and exhaustion. This\\nillness is estimated to account for USD 18–51 billion dollars in'}, {'entity': 'drome', 'start_context': 491, 'end_context': 512, 'label': 'DISEASE', 'context': 'and to promote more knowledge of chronic fatigue syn-\\ndrome. At that time, the illness was redeﬁned as'}, {'entity': 'intolerance disease', 'start_context': 504, 'end_context': 526, 'label': 'DISEASE', 'context': 'that time, the illness was redeﬁned as systemic exertion intolerance disease,\\nwith criteria stating that a patient must have'}, {'entity': 'fatigue', 'start_context': 182, 'end_context': 203, 'label': 'DISEASE', 'context': 'but lesser-known chronic medical condition: myalgic en-\\ncephalomyelitis/chronic fatigue syndrome (ME/CFS) [ 27–29]. ME/CFS is'}, {'entity': 'post-exertional malaise', 'start_context': 556, 'end_context': 578, 'label': 'DISEASE', 'context': 'persists for more than 6 months, in addition to post-exertional malaise\\nand unrefreshing sleep, which are other key features'}, {'entity': 'orthostatic', 'start_context': 592, 'end_context': 613, 'label': 'DISEASE', 'context': 'must have at least one of the following symptoms: orthostatic intoler-\\nance or cognitive decline. As there may'}, {'entity': 'signiﬁcant impairment', 'start_context': 605, 'end_context': 627, 'label': 'DISEASE', 'context': 'ance or cognitive decline. As there may be a signiﬁcant impairment in overall functioning,\\nsymptoms should be present with'}, {'entity': 'fatigue', 'start_context': 182, 'end_context': 203, 'label': 'DISEASE', 'context': 'but lesser-known chronic medical condition: myalgic en-\\ncephalomyelitis/chronic fatigue syndrome (ME/CFS) [ 27–29]. ME/CFS is'}, {'entity': 'pain', 'start_context': 671, 'end_context': 692, 'label': 'DISEASE', 'context': 'the illness, the most common symptoms were fatigue, pain, cognitive and sleep changes,\\nand ﬂu-related symptoms'}, {'entity': 'cognitive and sleep changes', 'start_context': 673, 'end_context': 697, 'label': 'DISEASE', 'context': ', the most common symptoms were fatigue, pain, cognitive and sleep changes,\\nand ﬂu-related symptoms. As the illness progressed'}, {'entity': 'functional impairments', 'start_context': 716, 'end_context': 738, 'label': 'DISEASE', 'context': 'years of struggle,\\nbut rather remained disabled with functional impairments. The most common pattern of\\nonset was following'}, {'entity': 'infectious illness', 'start_context': 767, 'end_context': 789, 'label': 'DISEASE', 'context': 'three most common precipitating factors have been demonstrated to be infectious illness,\\nstress or major life event, and exposure'}, {'entity': 'cortisol', 'start_context': 813, 'end_context': 834, 'label': 'CHEMICAL', 'context': 'abnormal\\nway, including an abnormal rise in serum cortisol and heart rate in response to the stress of\\n'}, {'entity': 'fatigue', 'start_context': 182, 'end_context': 203, 'label': 'DISEASE', 'context': 'but lesser-known chronic medical condition: myalgic en-\\ncephalomyelitis/chronic fatigue syndrome (ME/CFS) [ 27–29]. ME/CFS is'}, {'entity': 'infection', 'start_context': 55, 'end_context': 76, 'label': 'DISEASE', 'context': 'signs and symptoms more than four\\nweeks after initial infection with SARS-COV-2 [ 20,21]. Research into the prevalence'}]\n"
     ]
    }
   ],
   "source": [
    "#chekc how they handle body text pages\n",
    "output_enfo = extract_entities_with_context('en_ner_bc5cdr_md', enfo_txt, 10)\n",
    "output_mecfs = extract_entities_with_context('en_ner_bc5cdr_md', mecfs_txt, 10)"
   ]
  },
  {
   "cell_type": "code",
   "execution_count": 54,
   "metadata": {},
   "outputs": [
    {
     "name": "stdout",
     "output_type": "stream",
     "text": [
      "[{'entity': 'Toll‑like', 'start_context': 207, 'end_context': 228, 'label': 'CHEMICAL', 'context': '\\nEndothelial cells are main producers of interleukin 8 through Toll‑like \\nreceptor 2 and 4 signaling during bacterial infection in'}, {'entity': 'bacterial infection', 'start_context': 215, 'end_context': 237, 'label': 'DISEASE', 'context': '8 through Toll‑like \\nreceptor 2 and 4 signaling during bacterial infection in leukopenic cancer \\npatients. Clin Diagn Lab Immunol'}, {'entity': 'leukopenic cancer', 'start_context': 218, 'end_context': 240, 'label': 'DISEASE', 'context': '\\nreceptor 2 and 4 signaling during bacterial infection in leukopenic cancer \\npatients. Clin Diagn Lab Immunol. 2003;10(4):558–63.'}, {'entity': 'Li', 'start_context': 284, 'end_context': 305, 'label': 'CHEMICAL', 'context': 'J Biol Sci. \\n2013;9(9):966–79.\\n 51. Li L, Li J, Gao M, Fan H'}, {'entity': 'Li', 'start_context': 284, 'end_context': 305, 'label': 'CHEMICAL', 'context': 'J Biol Sci. \\n2013;9(9):966–79.\\n 51. Li L, Li J, Gao M, Fan H'}]\n",
      "[{'entity': 'Myalgic Encephalomyelitis/Chronic', 'start_context': 8, 'end_context': 30, 'label': 'DISEASE', 'context': '14\\n69. Committee on the Diagnostic Criteria for Myalgic Encephalomyelitis/Chronic Fatigue Syndrome; Board on the Health of Select\\n'}, {'entity': 'Fatigue', 'start_context': 29, 'end_context': 50, 'label': 'DISEASE', 'context': '\\nPopulations; Institute of Medicine. Beyond Myalgic Encephalomyelitis/Chronic Fatigue Syndrome: Redeﬁning an Illness ; National\\nAcademies Press'}, {'entity': 'K.', 'start_context': 56, 'end_context': 77, 'label': 'CHEMICAL', 'context': ', USA, 2015.\\n70. Fukuda, K.; Straus, S.E.; Hickie, I.; Sharpe'}, {'entity': 'fatigue', 'start_context': 79, 'end_context': 100, 'label': 'DISEASE', 'context': '; Dobbins, J.G.; Komaroff, A. The chronic fatigue syndrome: A comprehensive\\napproach to its deﬁnition and'}, {'entity': 'Fatigue', 'start_context': 29, 'end_context': 50, 'label': 'DISEASE', 'context': '\\nPopulations; Institute of Medicine. Beyond Myalgic Encephalomyelitis/Chronic Fatigue Syndrome: Redeﬁning an Illness ; National\\nAcademies Press'}, {'entity': 'Myalgic encephalomyelitis', 'start_context': 164, 'end_context': 186, 'label': 'DISEASE', 'context': ',\\nN.; Vallings, R.; et al. Myalgic encephalomyelitis: International Consensus Criteria. J. Intern. Med.'}, {'entity': 'Myalgic Encephalomyelitis/Chronic', 'start_context': 8, 'end_context': 30, 'label': 'DISEASE', 'context': '14\\n69. Committee on the Diagnostic Criteria for Myalgic Encephalomyelitis/Chronic Fatigue Syndrome; Board on the Health of Select\\n'}, {'entity': 'B.A. Myalgic', 'start_context': 235, 'end_context': 257, 'label': 'DISEASE', 'context': 'Silva-Aldana, C.T.; Arcos-Burgos, M.; Lidbury, B.A. Myalgic Encephalomyelitis/Chronic Fatigue\\nSyndrome: A Comprehensive Review. Diagnostics'}, {'entity': 'Fatigue', 'start_context': 29, 'end_context': 50, 'label': 'DISEASE', 'context': '\\nPopulations; Institute of Medicine. Beyond Myalgic Encephalomyelitis/Chronic Fatigue Syndrome: Redeﬁning an Illness ; National\\nAcademies Press'}, {'entity': 'Infection', 'start_context': 269, 'end_context': 290, 'label': 'DISEASE', 'context': '\\n74. Ortega-Hernandez, O.D.; Shoenfeld, Y. Infection, vaccination, and autoantibodies in chronic fatigue syndrome,'}, {'entity': 'T.R. A', 'start_context': 378, 'end_context': 400, 'label': 'CHEMICAL', 'context': 'Kesari, S.; Lybeck, M.; Reid, T.R. A Review of Persistent Post-COVID\\nSyndrome (PPCS).'}, {'entity': 'PPCS', 'start_context': 387, 'end_context': 408, 'label': 'DISEASE', 'context': ', T.R. A Review of Persistent Post-COVID\\nSyndrome (PPCS). Clin. Rev. Allergy Immunol. 2021 ,'}, {'entity': 'Rev. Allergy', 'start_context': 392, 'end_context': 414, 'label': 'DISEASE', 'context': 'Persistent Post-COVID\\nSyndrome (PPCS). Clin. Rev. Allergy Immunol. 2021 , 1–9. [CrossRef]\\n'}, {'entity': 'K.', 'start_context': 56, 'end_context': 77, 'label': 'CHEMICAL', 'context': ', USA, 2015.\\n70. Fukuda, K.; Straus, S.E.; Hickie, I.; Sharpe'}, {'entity': 'infection', 'start_context': 445, 'end_context': 466, 'label': 'DISEASE', 'context': 'detection of a\\nprolonged inﬂammatory response after a SARS-CoV-2 infection in asymptomatic and mildly affected patients. F1000Research\\n2020'}, {'entity': 'tis/chronic fatigue syndrome', 'start_context': 493, 'end_context': 516, 'label': 'DISEASE', 'context': 'stress and the response to antioxidants in myalgic encephalomyeli-\\ntis/chronic fatigue syndrome: A possible approach to SARS-CoV-2 ‘long-haulers’?'}, {'entity': 'K.', 'start_context': 56, 'end_context': 77, 'label': 'CHEMICAL', 'context': ', USA, 2015.\\n70. Fukuda, K.; Straus, S.E.; Hickie, I.; Sharpe'}, {'entity': 'K.', 'start_context': 56, 'end_context': 77, 'label': 'CHEMICAL', 'context': ', USA, 2015.\\n70. Fukuda, K.; Straus, S.E.; Hickie, I.; Sharpe'}, {'entity': 'myalgic encephalomyelitis', 'start_context': 967, 'end_context': 989, 'label': 'DISEASE', 'context': 'Strand, E.B. Energy envelope maintenance among patients\\nwith myalgic encephalomyelitis and chronic fatigue syndrome: Implications of limited energy reserves'}]\n"
     ]
    }
   ],
   "source": [
    "#chekc how they handle body text pages\n",
    "output_enfo = extract_entities_with_context('en_ner_bc5cdr_md', enfo_ref, 10)\n",
    "output_mecfs = extract_entities_with_context('en_ner_bc5cdr_md', mecfs_ref, 10)"
   ]
  },
  {
   "attachments": {},
   "cell_type": "markdown",
   "metadata": {},
   "source": [
    "Conclusion: extracted entities seem correct at firstare not as generic but clear errors occur - eg classifying PA-covid and long covid as protein or DNA; the entity types are quite clear but quite broad (e.g. many things can be recognized as chemical).\n",
    "\n",
    "errors again visible in the outputs for reference texts (eg classifying page count as protein) "
   ]
  },
  {
   "attachments": {},
   "cell_type": "markdown",
   "metadata": {},
   "source": [
    "### en_ner_bionlp13cg_md\n",
    "\n",
    "Following entity types: \n",
    "AMINO_ACID, ANATOMICAL_SYSTEM, CANCER, CELL, CELLULAR_COMPONENT, DEVELOPING_ANATOMICAL_STRUCTURE, GENE_OR_GENE_PRODUCT, IMMATERIAL_ANATOMICAL_ENTITY, MULTI-TISSUE_STRUCTURE, ORGAN, ORGANISM, ORGANISM_SUBDIVISION, ORGANISM_SUBSTANCE, PATHOLOGICAL_FORMATION, SIMPLE_CHEMICAL, TISSUE"
   ]
  },
  {
   "cell_type": "code",
   "execution_count": 52,
   "metadata": {},
   "outputs": [
    {
     "name": "stdout",
     "output_type": "stream",
     "text": [
      "[{'entity': 'COVID-19', 'start_context': 21, 'end_context': 42, 'label': 'SIMPLE_CHEMICAL', 'context': 'at least three\\xa0 months from the onset of \\nCOVID-19 with common symptoms such as fatigue, \\npost-exertional malaise'}, {'entity': 'patients', 'start_context': 51, 'end_context': 72, 'label': 'ORGANISM', 'context': 'In our observational longitudinal PA-COVID Fatigue \\nstudy of PCS patients with persistent moderate to \\nsevere fatigue and exertion intolerance'}, {'entity': 'patients', 'start_context': 51, 'end_context': 72, 'label': 'ORGANISM', 'context': 'In our observational longitudinal PA-COVID Fatigue \\nstudy of PCS patients with persistent moderate to \\nsevere fatigue and exertion intolerance'}, {'entity': 'patients', 'start_context': 51, 'end_context': 72, 'label': 'ORGANISM', 'context': 'In our observational longitudinal PA-COVID Fatigue \\nstudy of PCS patients with persistent moderate to \\nsevere fatigue and exertion intolerance'}, {'entity': '[4].', 'start_context': 115, 'end_context': 139, 'label': 'SIMPLE_CHEMICAL', 'context': 'not fulfill -\\ning these criteria were equally impaired [4]. ME/CFS is a \\ncomplex disease frequently triggered by an'}, {'entity': 'EBV', 'start_context': 135, 'end_context': 156, 'label': 'ORGANISM', 'context': 'frequently triggered by an infection with \\nEpstein-Barr virus (EBV) or parvovirus B19, but several \\nother viral'}, {'entity': 'parvovirus B19', 'start_context': 138, 'end_context': 160, 'label': 'ORGANISM', 'context': 'an infection with \\nEpstein-Barr virus (EBV) or parvovirus B19, but several \\nother viral and nonviral triggers have'}, {'entity': 'PEM', 'start_context': 160, 'end_context': 181, 'label': 'CANCER', 'context': 'been described \\n[5–7]. Postexertional malaise (PEM), which describes a \\ndisproportional aggravation of symptoms'}, {'entity': 'endothelial', 'start_context': 230, 'end_context': 251, 'label': 'CELL', 'context': 'is ample evidence for impaired perfu -\\nsion and endothelial dysfunction (ED) [7, 9–12].'}, {'entity': 'vasoconstrictors', 'start_context': 263, 'end_context': 284, 'label': 'GENE_OR_GENE_PRODUCT', 'context': 'lators, while on the other hand, endothelium-derived \\nvasoconstrictors are increased, leading to impaired \\nendothelium-dependent vasodilation ['}, {'entity': 'endothelium', 'start_context': 309, 'end_context': 330, 'label': 'TISSUE', 'context': 'interest, as the virus can directly infect \\nthe endothelium by engaging the Angiotensin-Convert -\\ning Enzyme (ACE'}, {'entity': 'acute COVID-19', 'start_context': 328, 'end_context': 350, 'label': 'CANCER', 'context': '(ACE) 2 receptor [15]. In acute COVID-19, \\nthere is evidence for vascular endothelial cell infection'}, {'entity': 'vascular endothelial cell', 'start_context': 336, 'end_context': 359, 'label': 'CELL', 'context': '. In acute COVID-19, \\nthere is evidence for vascular endothelial cell infection, \\nendotheliitis and microthrombosis across multiple vascu -'}, {'entity': 'tissues', 'start_context': 351, 'end_context': 372, 'label': 'TISSUE', 'context': '\\nendotheliitis and microthrombosis across multiple vascu -\\nlarized tissues [16, 17].\\nIn this study'}, {'entity': 'peripheral', 'start_context': 367, 'end_context': 388, 'label': 'TISSUE', 'context': '.\\nIn this study, we aimed to characterise peripheral \\nendothelial function using postocclusive reactive hyper -\\naemia'}, {'entity': 'endothelial', 'start_context': 230, 'end_context': 251, 'label': 'CELL', 'context': 'is ample evidence for impaired perfu -\\nsion and endothelial dysfunction (ED) [7, 9–12].'}, {'entity': 'postocclusive reactive hyper -\\n', 'start_context': 372, 'end_context': 397, 'label': 'SIMPLE_CHEMICAL', 'context': ', we aimed to characterise peripheral \\nendothelial function using postocclusive reactive hyper -\\naemia peripheral arterial tonometry (RH-PAT) in PCS \\n'}, {'entity': 'peripheral arterial', 'start_context': 378, 'end_context': 400, 'label': 'MULTI_TISSUE_STRUCTURE', 'context': '\\nendothelial function using postocclusive reactive hyper -\\naemia peripheral arterial tonometry (RH-PAT) in PCS \\npatients following mild'}, {'entity': 'patients', 'start_context': 51, 'end_context': 72, 'label': 'ORGANISM', 'context': 'In our observational longitudinal PA-COVID Fatigue \\nstudy of PCS patients with persistent moderate to \\nsevere fatigue and exertion intolerance'}, {'entity': 'endothelial', 'start_context': 230, 'end_context': 251, 'label': 'CELL', 'context': 'is ample evidence for impaired perfu -\\nsion and endothelial dysfunction (ED) [7, 9–12].'}, {'entity': 'Endothelin-1', 'start_context': 405, 'end_context': 426, 'label': 'GENE_OR_GENE_PRODUCT', 'context': '\\naddition, we analysed several endothelial biomarkers \\nincluding Endothelin-1 (ET-1), Angiopoietin-2 (Ang-\\n2)'}, {'entity': 'ET-1', 'start_context': 407, 'end_context': 428, 'label': 'GENE_OR_GENE_PRODUCT', 'context': ', we analysed several endothelial biomarkers \\nincluding Endothelin-1 (ET-1), Angiopoietin-2 (Ang-\\n2) and Endocan'}, {'entity': 'Angiopoietin-2', 'start_context': 410, 'end_context': 431, 'label': 'GENE_OR_GENE_PRODUCT', 'context': 'several endothelial biomarkers \\nincluding Endothelin-1 (ET-1), Angiopoietin-2 (Ang-\\n2) and Endocan (ESM-1)'}, {'entity': 'Ang-\\n2', 'start_context': 412, 'end_context': 435, 'label': 'GENE_OR_GENE_PRODUCT', 'context': 'biomarkers \\nincluding Endothelin-1 (ET-1), Angiopoietin-2 (Ang-\\n2) and Endocan (ESM-1) which play an important'}, {'entity': 'Endocan', 'start_context': 417, 'end_context': 438, 'label': 'GENE_OR_GENE_PRODUCT', 'context': 'ET-1), Angiopoietin-2 (Ang-\\n2) and Endocan (ESM-1) which play an important role \\nin'}, {'entity': 'ESM-1', 'start_context': 419, 'end_context': 440, 'label': 'GENE_OR_GENE_PRODUCT', 'context': ', Angiopoietin-2 (Ang-\\n2) and Endocan (ESM-1) which play an important role \\nin inflammatory and'}, {'entity': 'associ', 'start_context': 432, 'end_context': 453, 'label': 'GENE_OR_GENE_PRODUCT', 'context': 'play an important role \\nin inflammatory and noninflammatory diseases associ -\\nated with ED [18–22]. Furthermore'}, {'entity': 'IL-8', 'start_context': 452, 'end_context': 473, 'label': 'GENE_OR_GENE_PRODUCT', 'context': 'Furthermore, we assessed Inter -\\nleukin 8 (IL-8), Angiotensin-Converting Enzyme (ACE) \\nand ACE2'}, {'entity': 'ACE', 'start_context': 458, 'end_context': 479, 'label': 'GENE_OR_GENE_PRODUCT', 'context': '\\nleukin 8 (IL-8), Angiotensin-Converting Enzyme (ACE) \\nand ACE2. IL-8 is secreted not only'}, {'entity': 'ACE2', 'start_context': 462, 'end_context': 483, 'label': 'GENE_OR_GENE_PRODUCT', 'context': 'IL-8), Angiotensin-Converting Enzyme (ACE) \\nand ACE2. IL-8 is secreted not only by monocytes/\\nmacrophages'}, {'entity': 'IL-8', 'start_context': 452, 'end_context': 473, 'label': 'GENE_OR_GENE_PRODUCT', 'context': 'Furthermore, we assessed Inter -\\nleukin 8 (IL-8), Angiotensin-Converting Enzyme (ACE) \\nand ACE2'}, {'entity': 'monocytes/\\n', 'start_context': 470, 'end_context': 492, 'label': 'GENE_OR_GENE_PRODUCT', 'context': '\\nand ACE2. IL-8 is secreted not only by monocytes/\\nmacrophages but also by endothelial cells and vascular \\nsmooth'}, {'entity': 'endothelial cells', 'start_context': 476, 'end_context': 498, 'label': 'CELL', 'context': 'secreted not only by monocytes/\\nmacrophages but also by endothelial cells and vascular \\nsmooth muscle cells. This chemokine plays'}, {'entity': 'vascular \\nsmooth', 'start_context': 479, 'end_context': 502, 'label': 'GENE_OR_GENE_PRODUCT', 'context': 'by monocytes/\\nmacrophages but also by endothelial cells and vascular \\nsmooth muscle cells. This chemokine plays an impor -\\n'}, {'entity': 'endothelial', 'start_context': 230, 'end_context': 251, 'label': 'CELL', 'context': 'is ample evidence for impaired perfu -\\nsion and endothelial dysfunction (ED) [7, 9–12].'}, {'entity': 'leukocyte', 'start_context': 503, 'end_context': 524, 'label': 'CELL', 'context': 'role in (endothelial) inflammation and regulation \\nof leukocyte rolling as well as vascular permeability \\n[23]'}, {'entity': 'vascular', 'start_context': 508, 'end_context': 529, 'label': 'MULTI_TISSUE_STRUCTURE', 'context': 'inflammation and regulation \\nof leukocyte rolling as well as vascular permeability \\n[23]. ACE and ACE2 are'}, {'entity': 'ACE2', 'start_context': 462, 'end_context': 483, 'label': 'GENE_OR_GENE_PRODUCT', 'context': 'IL-8), Angiotensin-Converting Enzyme (ACE) \\nand ACE2. IL-8 is secreted not only by monocytes/\\nmacrophages'}, {'entity': 'blood', 'start_context': 528, 'end_context': 549, 'label': 'ORGANISM_SUBSTANCE', 'context': 'are crucial actors in the mainte -\\nnance of blood pressure and vascular homeostasis [2]. \\nACE'}, {'entity': 'vascular', 'start_context': 508, 'end_context': 529, 'label': 'MULTI_TISSUE_STRUCTURE', 'context': 'inflammation and regulation \\nof leukocyte rolling as well as vascular permeability \\n[23]. ACE and ACE2 are'}, {'entity': '[2]', 'start_context': 533, 'end_context': 556, 'label': 'SIMPLE_CHEMICAL', 'context': 'mainte -\\nnance of blood pressure and vascular homeostasis [2]. \\nACE converts angiotensin I into the vasoconstrictive \\n'}, {'entity': 'angiotensin I', 'start_context': 540, 'end_context': 562, 'label': 'GENE_OR_GENE_PRODUCT', 'context': 'and vascular homeostasis [2]. \\nACE converts angiotensin I into the vasoconstrictive \\nangiotensin II, which activates angiotensin'}, {'entity': 'angiotensin II', 'start_context': 546, 'end_context': 568, 'label': 'GENE_OR_GENE_PRODUCT', 'context': '. \\nACE converts angiotensin I into the vasoconstrictive \\nangiotensin II, which activates angiotensin II receptors. Counterregulatory ACE2 cleaves'}, {'entity': 'angiotensin II', 'start_context': 546, 'end_context': 568, 'label': 'GENE_OR_GENE_PRODUCT', 'context': '. \\nACE converts angiotensin I into the vasoconstrictive \\nangiotensin II, which activates angiotensin II receptors. Counterregulatory ACE2 cleaves'}, {'entity': 'ACE2', 'start_context': 462, 'end_context': 483, 'label': 'GENE_OR_GENE_PRODUCT', 'context': 'IL-8), Angiotensin-Converting Enzyme (ACE) \\nand ACE2. IL-8 is secreted not only by monocytes/\\nmacrophages'}, {'entity': 'angiotensin I', 'start_context': 540, 'end_context': 562, 'label': 'GENE_OR_GENE_PRODUCT', 'context': 'and vascular homeostasis [2]. \\nACE converts angiotensin I into the vasoconstrictive \\nangiotensin II, which activates angiotensin'}, {'entity': 'angiotensin II', 'start_context': 546, 'end_context': 568, 'label': 'GENE_OR_GENE_PRODUCT', 'context': '. \\nACE converts angiotensin I into the vasoconstrictive \\nangiotensin II, which activates angiotensin II receptors. Counterregulatory ACE2 cleaves'}, {'entity': 'angioten', 'start_context': 571, 'end_context': 592, 'label': 'GENE_OR_GENE_PRODUCT', 'context': 'angi -\\notensin 1–9 and metabolises angiotensin II to angioten -\\nsin 1–7. Peptides generated by ACE2 are'}, {'entity': 'ACE2', 'start_context': 462, 'end_context': 483, 'label': 'GENE_OR_GENE_PRODUCT', 'context': 'IL-8), Angiotensin-Converting Enzyme (ACE) \\nand ACE2. IL-8 is secreted not only by monocytes/\\nmacrophages'}, {'entity': 'Mas', 'start_context': 587, 'end_context': 608, 'label': 'GENE_OR_GENE_PRODUCT', 'context': 'Peptides generated by ACE2 are ligands of the \\nreceptor Mas, which triggers protective, vasodilative sig -\\nnalling'}, {'entity': 'patients', 'start_context': 51, 'end_context': 72, 'label': 'ORGANISM', 'context': 'In our observational longitudinal PA-COVID Fatigue \\nstudy of PCS patients with persistent moderate to \\nsevere fatigue and exertion intolerance'}, {'entity': 'endothelial', 'start_context': 230, 'end_context': 251, 'label': 'CELL', 'context': 'is ample evidence for impaired perfu -\\nsion and endothelial dysfunction (ED) [7, 9–12].'}, {'entity': 'patients', 'start_context': 51, 'end_context': 72, 'label': 'ORGANISM', 'context': 'In our observational longitudinal PA-COVID Fatigue \\nstudy of PCS patients with persistent moderate to \\nsevere fatigue and exertion intolerance'}, {'entity': '[4, 25].', 'start_context': 662, 'end_context': 688, 'label': 'SIMPLE_CHEMICAL', 'context': 'for ME/CFS according to the 2003 Canadian Consensus \\nCriteria [4, 25]. In contrast to the original classification \\nand in accordance'}, {'entity': 'L.', 'start_context': 682, 'end_context': 703, 'label': 'SIMPLE_CHEMICAL', 'context': 'original classification \\nand in accordance with the studies of L. Jason and col -\\nleagues, a minimum of'}, {'entity': 'PEM', 'start_context': 160, 'end_context': 181, 'label': 'CANCER', 'context': 'been described \\n[5–7]. Postexertional malaise (PEM), which describes a \\ndisproportional aggravation of symptoms'}, {'entity': '[26]', 'start_context': 713, 'end_context': 736, 'label': 'SIMPLE_CHEMICAL', 'context': 'of PEM was \\nrequired for the diagnosis of ME/CFS [26]. As a control \\ngroup, 15 age- and'}, {'entity': 'HCs', 'start_context': 727, 'end_context': 748, 'label': 'SIMPLE_CHEMICAL', 'context': 'As a control \\ngroup, 15 age- and sex-matched HCs without a known \\nhistory of COVID-19 were characterised using'}, {'entity': 'COVID-19', 'start_context': 21, 'end_context': 42, 'label': 'SIMPLE_CHEMICAL', 'context': 'at least three\\xa0 months from the onset of \\nCOVID-19 with common symptoms such as fatigue, \\npost-exertional malaise'}, {'entity': 'patients', 'start_context': 51, 'end_context': 72, 'label': 'ORGANISM', 'context': 'In our observational longitudinal PA-COVID Fatigue \\nstudy of PCS patients with persistent moderate to \\nsevere fatigue and exertion intolerance'}, {'entity': 'HCs', 'start_context': 727, 'end_context': 748, 'label': 'SIMPLE_CHEMICAL', 'context': 'As a control \\ngroup, 15 age- and sex-matched HCs without a known \\nhistory of COVID-19 were characterised using'}, {'entity': 'COVID-19', 'start_context': 21, 'end_context': 42, 'label': 'SIMPLE_CHEMICAL', 'context': 'at least three\\xa0 months from the onset of \\nCOVID-19 with common symptoms such as fatigue, \\npost-exertional malaise'}, {'entity': 'COVID-19', 'start_context': 21, 'end_context': 42, 'label': 'SIMPLE_CHEMICAL', 'context': 'at least three\\xa0 months from the onset of \\nCOVID-19 with common symptoms such as fatigue, \\npost-exertional malaise'}, {'entity': 'Anti-SARS-CoV-2-spike', 'start_context': 814, 'end_context': 835, 'label': 'GENE_OR_GENE_PRODUCT', 'context': '\\nand were negative for SARS-CoV-2 antibodies tested by \\nAnti-SARS-CoV-2-spike IgG-ELISA (Euroimmune). The \\ncharacteristics of both'}, {'entity': 'participants', 'start_context': 873, 'end_context': 894, 'label': 'ORGANISM', 'context': 'its later \\namendments (EA2/066/20). All study participants gave \\nwritten informed consent.\\nAssessment of\\xa0'}, {'entity': 'endothelial', 'start_context': 230, 'end_context': 251, 'label': 'CELL', 'context': 'is ample evidence for impaired perfu -\\nsion and endothelial dysfunction (ED) [7, 9–12].'}, {'entity': 'Peripheral endothelial', 'start_context': 887, 'end_context': 909, 'label': 'CELLULAR_COMPONENT', 'context': 'informed consent.\\nAssessment of\\xa0endothelial function\\nPeripheral endothelial function was assessed using \\npostocclusive reactive hyperaemia peripheral arterial'}, {'entity': 'peripheral', 'start_context': 367, 'end_context': 388, 'label': 'TISSUE', 'context': '.\\nIn this study, we aimed to characterise peripheral \\nendothelial function using postocclusive reactive hyper -\\naemia'}, {'entity': 'brachial artery', 'start_context': 963, 'end_context': 985, 'label': 'MULTI_TISSUE_STRUCTURE', 'context': '. Hyperaemia was induced by occlusion of the left \\nbrachial artery over 5\\xa0minutes using an inflatable blood \\npressure'}, {'entity': 'blood', 'start_context': 528, 'end_context': 549, 'label': 'ORGANISM_SUBSTANCE', 'context': 'are crucial actors in the mainte -\\nnance of blood pressure and vascular homeostasis [2]. \\nACE'}, {'entity': 'contra-lateral', 'start_context': 1015, 'end_context': 1036, 'label': 'TISSUE', 'context': 'corresponding \\nchanges in PWA relative to baseline in the contra-lateral, \\nnonoccluded arm in order to minimise the influence'}, {'entity': 'nonendothelial', 'start_context': 1028, 'end_context': 1049, 'label': 'CELL', 'context': 'nonoccluded arm in order to minimise the influence of \\nnonendothelial dependent systemic effects, using the \\nequation: RHI'}, {'entity': 'RHI', 'start_context': 1038, 'end_context': 1059, 'label': 'CELL', 'context': 'nonendothelial dependent systemic effects, using the \\nequation: RHI = (A/B) ÷ (C/D). Based'}, {'entity': 'C/D', 'start_context': 1045, 'end_context': 1062, 'label': 'CANCER', 'context': '\\nequation: RHI = (A/B) ÷ (C/D). Based on previous studies'}]\n",
      "[{'entity': '418 2 of 14\\nCOVID', 'start_context': 0, 'end_context': 21, 'label': 'SIMPLE_CHEMICAL', 'context': 'Medicina 2021 ,57, 418 2 of 14\\nCOVID syndrome [ 18], and more recently, post-acute'}, {'entity': 'PASC', 'start_context': 17, 'end_context': 38, 'label': 'SIMPLE_CHEMICAL', 'context': 'more recently, post-acute sequelae of SARS-COV-2 infection\\n(PASC) [ 19]. There is no established case'}, {'entity': 'patients', 'start_context': 84, 'end_context': 105, 'label': 'ORGANISM', 'context': 'one study has estimated that over 87% of COVID patients continue\\nto experience at least one symptom, two'}, {'entity': '[ 22].The\\n', 'start_context': 100, 'end_context': 123, 'label': 'SIMPLE_CHEMICAL', 'context': 'least one symptom, two months after COVID symptom onset [ 22].The\\nrisk for developing long COVID does not appear to be'}, {'entity': '[ 23].', 'start_context': 121, 'end_context': 145, 'label': 'SIMPLE_CHEMICAL', 'context': 'to be correlated with the severity of acute\\nillness [ 23]. The etiologies of long COVID are uncertain, with some'}, {'entity': 'patient', 'start_context': 312, 'end_context': 333, 'label': 'ORGANISM', 'context': 'syndrome. As the diagnosis is mostly based upon\\npatient’s subjective feedback, this has sparked stigma that has'}, {'entity': 'women', 'start_context': 427, 'end_context': 448, 'label': 'ORGANISM', 'context': 'array of populations, but with a predominance\\nof women being more affected than men [31]. To'}, {'entity': 'men', 'start_context': 432, 'end_context': 453, 'label': 'ORGANISM', 'context': 'with a predominance\\nof women being more affected than men [31]. To better understand this illness,'}, {'entity': 'patient', 'start_context': 312, 'end_context': 333, 'label': 'ORGANISM', 'context': 'syndrome. As the diagnosis is mostly based upon\\npatient’s subjective feedback, this has sparked stigma that has'}, {'entity': 'patient', 'start_context': 312, 'end_context': 333, 'label': 'ORGANISM', 'context': 'syndrome. As the diagnosis is mostly based upon\\npatient’s subjective feedback, this has sparked stigma that has'}, {'entity': 'patients', 'start_context': 84, 'end_context': 105, 'label': 'ORGANISM', 'context': 'one study has estimated that over 87% of COVID patients continue\\nto experience at least one symptom, two'}, {'entity': 'patients', 'start_context': 84, 'end_context': 105, 'label': 'ORGANISM', 'context': 'one study has estimated that over 87% of COVID patients continue\\nto experience at least one symptom, two'}, {'entity': 'serum cortisol', 'start_context': 812, 'end_context': 834, 'label': 'ORGANISM_SUBSTANCE', 'context': 'an abnormal\\nway, including an abnormal rise in serum cortisol and heart rate in response to the stress of\\n'}, {'entity': 'heart', 'start_context': 815, 'end_context': 836, 'label': 'ORGAN', 'context': 'way, including an abnormal rise in serum cortisol and heart rate in response to the stress of\\nwaking up'}, {'entity': 'Epstein–Barr virus', 'start_context': 863, 'end_context': 887, 'label': 'ORGANISM', 'context': 'potential causes of chronic fatigue syndrome\\nincludes infection with Epstein–Barr virus (EBV), being highly studied in this setting'}, {'entity': 'EBV', 'start_context': 868, 'end_context': 889, 'label': 'ORGANISM', 'context': 'syndrome\\nincludes infection with Epstein–Barr virus (EBV), being highly studied in this setting. A'}]\n"
     ]
    }
   ],
   "source": [
    "#chekc how they handle body text pages\n",
    "output_enfo = extract_entities_with_context('en_ner_bionlp13cg_md', enfo_txt, 10)\n",
    "output_mecfs = extract_entities_with_context('en_ner_bionlp13cg_md', mecfs_txt, 10)"
   ]
  },
  {
   "cell_type": "code",
   "execution_count": 55,
   "metadata": {},
   "outputs": [
    {
     "name": "stdout",
     "output_type": "stream",
     "text": [
      "[{'entity': 'BMC', 'start_context': 80, 'end_context': 101, 'label': 'TISSUE', 'context': 'over 100M website views per year •\\n  At BMC, research is always in progress.\\nLearn more'}, {'entity': 'biomedcentral.com/submissionsReady', 'start_context': 91, 'end_context': 112, 'label': 'GENE_OR_GENE_PRODUCT', 'context': ', research is always in progress.\\nLearn more biomedcentral.com/submissionsReady to submit y our researc h Ready to submit y'}, {'entity': 'BMC', 'start_context': 80, 'end_context': 101, 'label': 'CELL', 'context': 'over 100M website views per year •\\n  At BMC, research is always in progress.\\nLearn more'}, {'entity': 'BMC', 'start_context': 80, 'end_context': 101, 'label': 'CELL', 'context': 'over 100M website views per year •\\n  At BMC, research is always in progress.\\nLearn more'}, {'entity': 'ESH', 'start_context': 127, 'end_context': 148, 'label': 'ORGANISM', 'context': 'Choose BMC and benefit fr om: \\nfrom the ESH working group on vascular structure and function and the \\n'}, {'entity': 'vascular', 'start_context': 131, 'end_context': 152, 'label': 'MULTI_TISSUE_STRUCTURE', 'context': 'fr om: \\nfrom the ESH working group on vascular structure and function and the \\nARTERY society. J'}, {'entity': 'Duffy antigen receptor', 'start_context': 154, 'end_context': 177, 'label': 'GENE_OR_GENE_PRODUCT', 'context': '2020;38(9):1682–98.\\n 48. Novitzky‑Basso I, Rot A. Duffy antigen receptor for chemokines and its \\ninvolvement in patterning and control'}, {'entity': 'Vellenga E', 'start_context': 184, 'end_context': 206, 'label': 'GENE_OR_GENE_PRODUCT', 'context': '. 2012;3:266.\\n 49. Oude Nijhuis CS, Vellenga E, Daenen SM, Kamps WA, De Bont ES'}, {'entity': 'SM', 'start_context': 188, 'end_context': 209, 'label': 'CANCER', 'context': '49. Oude Nijhuis CS, Vellenga E, Daenen SM, Kamps WA, De Bont ES. \\nEndothelial'}, {'entity': 'Endothelial cells', 'start_context': 198, 'end_context': 220, 'label': 'CELL', 'context': 'SM, Kamps WA, De Bont ES. \\nEndothelial cells are main producers of interleukin 8 through Toll‑like \\nreceptor'}, {'entity': 'interleukin 8', 'start_context': 204, 'end_context': 226, 'label': 'GENE_OR_GENE_PRODUCT', 'context': 'Bont ES. \\nEndothelial cells are main producers of interleukin 8 through Toll‑like \\nreceptor 2 and 4 signaling during bacterial'}, {'entity': 'Toll‑like \\nreceptor 2', 'start_context': 207, 'end_context': 231, 'label': 'GENE_OR_GENE_PRODUCT', 'context': '\\nEndothelial cells are main producers of interleukin 8 through Toll‑like \\nreceptor 2 and 4 signaling during bacterial infection in leukopenic cancer \\n'}, {'entity': 'leukopenic cancer', 'start_context': 218, 'end_context': 240, 'label': 'CANCER', 'context': '\\nreceptor 2 and 4 signaling during bacterial infection in leukopenic cancer \\npatients. Clin Diagn Lab Immunol. 2003;10(4):558–63.'}, {'entity': 'patients', 'start_context': 221, 'end_context': 242, 'label': 'ORGANISM', 'context': 'and 4 signaling during bacterial infection in leukopenic cancer \\npatients. Clin Diagn Lab Immunol. 2003;10(4):558–63.\\n 50'}, {'entity': 'Huang X', 'start_context': 236, 'end_context': 258, 'label': 'SIMPLE_CHEMICAL', 'context': 'Immunol. 2003;10(4):558–63.\\n 50. Yu H, Huang X, Ma Y, Gao M, Wang O,'}, {'entity': 'Ma Y,', 'start_context': 239, 'end_context': 262, 'label': 'SIMPLE_CHEMICAL', 'context': '.\\n 50. Yu H, Huang X, Ma Y, Gao M, Wang O, Gao T, et'}, {'entity': 'Gao M', 'start_context': 242, 'end_context': 264, 'label': 'GENE_OR_GENE_PRODUCT', 'context': '. Yu H, Huang X, Ma Y, Gao M, Wang O, Gao T, et al. Interleukin‑8'}, {'entity': 'Gao T', 'start_context': 248, 'end_context': 270, 'label': 'GENE_OR_GENE_PRODUCT', 'context': ', Ma Y, Gao M, Wang O, Gao T, et al. Interleukin‑8 regulates \\nendothelial permeability by down‑regulation'}, {'entity': 'endothelial', 'start_context': 256, 'end_context': 277, 'label': 'TISSUE', 'context': 'O, Gao T, et al. Interleukin‑8 regulates \\nendothelial permeability by down‑regulation of tight junction but \\nnot dependent'}, {'entity': 'focal adhesions', 'start_context': 270, 'end_context': 292, 'label': 'CELLULAR_COMPONENT', 'context': 'of tight junction but \\nnot dependent on integrins induced focal adhesions. Int J Biol Sci. \\n2013;9(9):966–79.\\n '}, {'entity': 'Gao M', 'start_context': 242, 'end_context': 264, 'label': 'GENE_OR_GENE_PRODUCT', 'context': '. Yu H, Huang X, Ma Y, Gao M, Wang O, Gao T, et al. Interleukin‑8'}, {'entity': 'Fan H, Wang Y,', 'start_context': 293, 'end_context': 319, 'label': 'SIMPLE_CHEMICAL', 'context': '. Li L, Li J, Gao M, Fan H, Wang Y, Xu X, et al. Interleukin‑8 as a Biomarker for'}, {'entity': 'Coronavirus Disease', 'start_context': 313, 'end_context': 335, 'label': 'ORGANISM', 'context': 'al. Interleukin‑8 as a Biomarker for \\nDisease Prognosis of Coronavirus Disease ‑2019 Patients. Front Immunol. \\n2021;11: 602395'}, {'entity': 'Patients', 'start_context': 316, 'end_context': 337, 'label': 'ORGANISM', 'context': 'a Biomarker for \\nDisease Prognosis of Coronavirus Disease ‑2019 Patients. Front Immunol. \\n2021;11: 602395.\\n'}]\n",
      "[{'entity': '418 14 of 14\\n', 'start_context': 0, 'end_context': 20, 'label': 'SIMPLE_CHEMICAL', 'context': 'Medicina 2021 ,57, 418 14 of 14\\n69. Committee on the Diagnostic Criteria for Myalgic Encephalomyelitis/Chronic'}, {'entity': 'K.', 'start_context': 56, 'end_context': 77, 'label': 'ORGANISM', 'context': ', USA, 2015.\\n70. Fukuda, K.; Straus, S.E.; Hickie, I.; Sharpe'}, {'entity': 'Straus', 'start_context': 58, 'end_context': 79, 'label': 'CELLULAR_COMPONENT', 'context': ', 2015.\\n70. Fukuda, K.; Straus, S.E.; Hickie, I.; Sharpe, M.C.'}, {'entity': 'Sharpe', 'start_context': 66, 'end_context': 87, 'label': 'ORGANISM', 'context': 'K.; Straus, S.E.; Hickie, I.; Sharpe, M.C.; Dobbins, J.G.; Komaroff, A.'}, {'entity': 'M.C.', 'start_context': 68, 'end_context': 89, 'label': 'ORGANISM', 'context': 'Straus, S.E.; Hickie, I.; Sharpe, M.C.; Dobbins, J.G.; Komaroff, A. The chronic'}, {'entity': 'J.G.', 'start_context': 72, 'end_context': 93, 'label': 'ORGANISM', 'context': 'Hickie, I.; Sharpe, M.C.; Dobbins, J.G.; Komaroff, A. The chronic fatigue syndrome: A'}, {'entity': 'Komaroff', 'start_context': 74, 'end_context': 95, 'label': 'ORGANISM', 'context': 'I.; Sharpe, M.C.; Dobbins, J.G.; Komaroff, A. The chronic fatigue syndrome: A comprehensive\\n'}, {'entity': 'A.', 'start_context': 76, 'end_context': 97, 'label': 'ORGANISM', 'context': 'Sharpe, M.C.; Dobbins, J.G.; Komaroff, A. The chronic fatigue syndrome: A comprehensive\\napproach to'}, {'entity': 'B.M.', 'start_context': 120, 'end_context': 141, 'label': 'ORGANISM', 'context': '.\\n[CrossRef]\\n71. Carruthers, B.M.; van de Sande, M.I.; De Meirleir,'}, {'entity': 'K.L.', 'start_context': 131, 'end_context': 152, 'label': 'ORGANISM', 'context': '; van de Sande, M.I.; De Meirleir, K.L.; Klimas, N.G.; Broderick, G.; Mitchell'}, {'entity': 'Broderick', 'start_context': 137, 'end_context': 158, 'label': 'ORGANISM', 'context': '; De Meirleir, K.L.; Klimas, N.G.; Broderick, G.; Mitchell, T.; Staines, D.'}, {'entity': 'G.', 'start_context': 139, 'end_context': 160, 'label': 'ORGANISM', 'context': 'Meirleir, K.L.; Klimas, N.G.; Broderick, G.; Mitchell, T.; Staines, D.; Powles'}, {'entity': 'Mitchell', 'start_context': 141, 'end_context': 162, 'label': 'CELL', 'context': 'K.L.; Klimas, N.G.; Broderick, G.; Mitchell, T.; Staines, D.; Powles, A.C.'}, {'entity': 'D.', 'start_context': 147, 'end_context': 168, 'label': 'ORGANISM', 'context': 'Broderick, G.; Mitchell, T.; Staines, D.; Powles, A.C.; Speight,\\nN.;'}, {'entity': 'M.C.', 'start_context': 68, 'end_context': 89, 'label': 'ORGANISM', 'context': 'Straus, S.E.; Hickie, I.; Sharpe, M.C.; Dobbins, J.G.; Komaroff, A. The chronic'}, {'entity': 'C.', 'start_context': 223, 'end_context': 244, 'label': 'ORGANISM', 'context': '.\\n73. Rivera, M.C.; Mastronardi, C.; Silva-Aldana, C.T.; Arcos-Burgos, M.; Lidbury'}, {'entity': 'C.T.', 'start_context': 227, 'end_context': 248, 'label': 'ORGANISM', 'context': 'Rivera, M.C.; Mastronardi, C.; Silva-Aldana, C.T.; Arcos-Burgos, M.; Lidbury, B.A. Myalgic Encephalomyelitis/Chronic'}, {'entity': 'M.', 'start_context': 231, 'end_context': 252, 'label': 'ORGANISM', 'context': 'Mastronardi, C.; Silva-Aldana, C.T.; Arcos-Burgos, M.; Lidbury, B.A. Myalgic Encephalomyelitis/Chronic Fatigue\\nSyndrome:'}, {'entity': 'Y.', 'start_context': 268, 'end_context': 289, 'label': 'ORGANISM', 'context': ']\\n74. Ortega-Hernandez, O.D.; Shoenfeld, Y. Infection, vaccination, and autoantibodies in chronic fatigue syndrome'}, {'entity': 'Ann', 'start_context': 286, 'end_context': 307, 'label': 'CANCER', 'context': 'chronic fatigue syndrome, cause or coinci-\\ndence? Ann. N. Y. Acad. Sci. 2009 ,1173'}, {'entity': 'S.V', 'start_context': 311, 'end_context': 332, 'label': 'ORGANISM_SUBSTANCE', 'context': 'CrossRef] [PubMed]\\n75. Arnett, S.V .; Alleva, L.M.; Korossy-Horwood, R.;'}, {'entity': 'L.M.', 'start_context': 316, 'end_context': 337, 'label': 'ORGANISM', 'context': '\\n75. Arnett, S.V .; Alleva, L.M.; Korossy-Horwood, R.; Clark, I.A. Chronic fatigue'}, {'entity': 'Clark', 'start_context': 322, 'end_context': 343, 'label': 'CANCER', 'context': '.; Alleva, L.M.; Korossy-Horwood, R.; Clark, I.A. Chronic fatigue syndrome—A neuroimmunological model.'}, {'entity': 'Larson', 'start_context': 356, 'end_context': 377, 'label': 'CELLULAR_COMPONENT', 'context': '[PubMed]\\n76. Oronsky, B.; Larson, C.; Hammond, T.C.; Oronsky, A.'}, {'entity': 'C.', 'start_context': 223, 'end_context': 244, 'label': 'ORGANISM', 'context': '.\\n73. Rivera, M.C.; Mastronardi, C.; Silva-Aldana, C.T.; Arcos-Burgos, M.; Lidbury'}, {'entity': 'Oronsky', 'start_context': 364, 'end_context': 385, 'label': 'CANCER', 'context': 'B.; Larson, C.; Hammond, T.C.; Oronsky, A.; Kesari, S.; Lybeck, M.'}, {'entity': 'A.', 'start_context': 76, 'end_context': 97, 'label': 'ORGANISM', 'context': 'Sharpe, M.C.; Dobbins, J.G.; Komaroff, A. The chronic fatigue syndrome: A comprehensive\\napproach to'}, {'entity': 'M.', 'start_context': 231, 'end_context': 252, 'label': 'ORGANISM', 'context': 'Mastronardi, C.; Silva-Aldana, C.T.; Arcos-Burgos, M.; Lidbury, B.A. Myalgic Encephalomyelitis/Chronic Fatigue\\nSyndrome:'}, {'entity': 'I.', 'start_context': 408, 'end_context': 429, 'label': 'ORGANISM', 'context': '1–9. [CrossRef]\\n77. Doykov, I.; Hällqvist, J.; Gilmour, K.C.; Grandjean'}, {'entity': 'L.', 'start_context': 420, 'end_context': 441, 'label': 'ORGANISM', 'context': 'Hällqvist, J.; Gilmour, K.C.; Grandjean, L.; Mills, K.; Heywood, W.E. ‘The'}, {'entity': 'Mills', 'start_context': 422, 'end_context': 443, 'label': 'GENE_OR_GENE_PRODUCT', 'context': 'J.; Gilmour, K.C.; Grandjean, L.; Mills, K.; Heywood, W.E. ‘The long tail'}, {'entity': 'K.', 'start_context': 56, 'end_context': 77, 'label': 'ORGANISM', 'context': ', USA, 2015.\\n70. Fukuda, K.; Straus, S.E.; Hickie, I.; Sharpe'}, {'entity': 'W.E.', 'start_context': 428, 'end_context': 449, 'label': 'ORGANISM', 'context': 'Grandjean, L.; Mills, K.; Heywood, W.E. ‘The long tail of Covid-19’—The detection of a\\n'}, {'entity': 'patients', 'start_context': 451, 'end_context': 472, 'label': 'ORGANISM', 'context': 'response after a SARS-CoV-2 infection in asymptomatic and mildly affected patients. F1000Research\\n2020 ,9, 1349. ['}, {'entity': 'E.', 'start_context': 469, 'end_context': 490, 'label': 'ORGANISM', 'context': '1349. [CrossRef]\\n78. Wood, E.; Hall, K.H.; Tate, W. Role of'}, {'entity': 'Hall', 'start_context': 471, 'end_context': 492, 'label': 'ORGANISM', 'context': '[CrossRef]\\n78. Wood, E.; Hall, K.H.; Tate, W. Role of mitochondria,'}, {'entity': 'mitochondria', 'start_context': 480, 'end_context': 501, 'label': 'CELLULAR_COMPONENT', 'context': '; Hall, K.H.; Tate, W. Role of mitochondria, oxidative stress and the response to antioxidants in myalgic'}, {'entity': 'long-haulers', 'start_context': 503, 'end_context': 524, 'label': 'ORGANISM', 'context': 'tis/chronic fatigue syndrome: A possible approach to SARS-CoV-2 ‘long-haulers’? Chronic Dis. Transl. Med. 2021'}, {'entity': 'People', 'start_context': 533, 'end_context': 554, 'label': 'ORGANISM', 'context': '\\n79. Gupta, D. Almost A Third of People with ‘Mild’ COVID-19 Still Battle Symptoms Months Later'}, {'entity': 'A.', 'start_context': 76, 'end_context': 97, 'label': 'ORGANISM', 'context': 'Sharpe, M.C.; Dobbins, J.G.; Komaroff, A. The chronic fatigue syndrome: A comprehensive\\napproach to'}, {'entity': 'Hartman', 'start_context': 661, 'end_context': 682, 'label': 'ORGANISM', 'context': '2021).\\n82. Ballering, A.; Hartman, T.O.; Rosmalen, J. Long COVID-19, persistent'}, {'entity': 'E.', 'start_context': 469, 'end_context': 490, 'label': 'ORGANISM', 'context': '1349. [CrossRef]\\n78. Wood, E.; Hall, K.H.; Tate, W. Role of'}, {'entity': 'A.', 'start_context': 76, 'end_context': 97, 'label': 'ORGANISM', 'context': 'Sharpe, M.C.; Dobbins, J.G.; Komaroff, A. The chronic fatigue syndrome: A comprehensive\\napproach to'}, {'entity': 'Wieringa', 'start_context': 700, 'end_context': 721, 'label': 'GENE_OR_GENE_PRODUCT', 'context': '83. Ladds, E.; Rushforth, A.; Wieringa, S.; Taylor, S.; Rayner, C.'}, {'entity': 'C.', 'start_context': 223, 'end_context': 244, 'label': 'ORGANISM', 'context': '.\\n73. Rivera, M.C.; Mastronardi, C.; Silva-Aldana, C.T.; Arcos-Burgos, M.; Lidbury'}, {'entity': 'L.', 'start_context': 420, 'end_context': 441, 'label': 'ORGANISM', 'context': 'Hällqvist, J.; Gilmour, K.C.; Grandjean, L.; Mills, K.; Heywood, W.E. ‘The'}, {'entity': 'T.', 'start_context': 718, 'end_context': 739, 'label': 'ORGANISM_SUBSTANCE', 'context': 'Rayner, C.; Husain, L.; Greenhalgh, T. Developing services for long COVID:\\nLessons from a'}, {'entity': 'T.', 'start_context': 718, 'end_context': 739, 'label': 'ORGANISM', 'context': 'Rayner, C.; Husain, L.; Greenhalgh, T. Developing services for long COVID:\\nLessons from a'}, {'entity': 'Knight', 'start_context': 754, 'end_context': 775, 'label': 'ORGANISM', 'context': '[CrossRef]\\n84. Greenhalgh, T.; Knight, M. Long COVID: A Primer for Family Physicians'}, {'entity': 'Fam', 'start_context': 768, 'end_context': 789, 'label': 'GENE_OR_GENE_PRODUCT', 'context': 'COVID: A Primer for Family Physicians. Am. Fam. Physician 2020 ,102, 716–717.\\n85'}, {'entity': 'Physician', 'start_context': 770, 'end_context': 791, 'label': 'CANCER', 'context': 'A Primer for Family Physicians. Am. Fam. Physician 2020 ,102, 716–717.\\n85. The'}, {'entity': 'A.', 'start_context': 76, 'end_context': 97, 'label': 'ORGANISM', 'context': 'Sharpe, M.C.; Dobbins, J.G.; Komaroff, A. The chronic fatigue syndrome: A comprehensive\\napproach to'}, {'entity': 'K.', 'start_context': 56, 'end_context': 77, 'label': 'ORGANISM', 'context': ', USA, 2015.\\n70. Fukuda, K.; Straus, S.E.; Hickie, I.; Sharpe'}, {'entity': 'Azim', 'start_context': 814, 'end_context': 835, 'label': 'ORGANISM', 'context': 'A.; Iqbal, K.; Ali, S.A.; Azim, D.; Farid, E.; Baig, M.D.'}, {'entity': 'D.', 'start_context': 147, 'end_context': 168, 'label': 'ORGANISM', 'context': 'Broderick, G.; Mitchell, T.; Staines, D.; Powles, A.C.; Speight,\\nN.;'}, {'entity': 'Farid', 'start_context': 818, 'end_context': 839, 'label': 'ORGANISM', 'context': 'K.; Ali, S.A.; Azim, D.; Farid, E.; Baig, M.D.; Arif, T.B.'}, {'entity': 'E.', 'start_context': 469, 'end_context': 490, 'label': 'ORGANISM', 'context': '1349. [CrossRef]\\n78. Wood, E.; Hall, K.H.; Tate, W. Role of'}, {'entity': 'COVID-19', 'start_context': 834, 'end_context': 855, 'label': 'SIMPLE_CHEMICAL', 'context': 'M.D.; Arif, T.B.; Raza, M. The COVID-19 Sequelae: A Cross-Sectional\\nEvaluation of Post-recovery Symptoms and'}, {'entity': 'Post-recovery', 'start_context': 842, 'end_context': 863, 'label': 'TISSUE', 'context': 'M. The COVID-19 Sequelae: A Cross-Sectional\\nEvaluation of Post-recovery Symptoms and the Need for Rehabilitation of COVID-19 Survivors.'}, {'entity': 'Need', 'start_context': 846, 'end_context': 867, 'label': 'CANCER', 'context': ': A Cross-Sectional\\nEvaluation of Post-recovery Symptoms and the Need for Rehabilitation of COVID-19 Survivors. Cureus 2021 ,13'}, {'entity': 'Wise', 'start_context': 870, 'end_context': 891, 'label': 'ORGANISM', 'context': '\\n[CrossRef] [PubMed]\\n87. Wise, J. Long covid: WHO calls on countries to'}, {'entity': 'patients', 'start_context': 451, 'end_context': 472, 'label': 'ORGANISM', 'context': 'response after a SARS-CoV-2 infection in asymptomatic and mildly affected patients. F1000Research\\n2020 ,9, 1349. ['}, {'entity': 'L.', 'start_context': 420, 'end_context': 441, 'label': 'ORGANISM', 'context': 'Hällqvist, J.; Gilmour, K.C.; Grandjean, L.; Mills, K.; Heywood, W.E. ‘The'}, {'entity': 'J. Mitochondrial-targeted ubiquinone:', 'start_context': 908, 'end_context': 932, 'label': 'GENE_OR_GENE_PRODUCT', 'context': ']\\n88. Ouyang, L.; Gong, J. Mitochondrial-targeted ubiquinone: A potential treatment for COVID-19. Med. Hypotheses 2020'}, {'entity': 'O’Connor', 'start_context': 937, 'end_context': 958, 'label': 'GENE_OR_GENE_PRODUCT', 'context': '\\n[CrossRef] [PubMed]\\n89. O’Connor, K.; Sunnquist, M.; Nicholson, L.'}, {'entity': 'K.', 'start_context': 56, 'end_context': 77, 'label': 'ORGANISM', 'context': ', USA, 2015.\\n70. Fukuda, K.; Straus, S.E.; Hickie, I.; Sharpe'}, {'entity': 'M.', 'start_context': 231, 'end_context': 252, 'label': 'ORGANISM', 'context': 'Mastronardi, C.; Silva-Aldana, C.T.; Arcos-Burgos, M.; Lidbury, B.A. Myalgic Encephalomyelitis/Chronic Fatigue\\nSyndrome:'}, {'entity': 'L.', 'start_context': 420, 'end_context': 441, 'label': 'ORGANISM', 'context': 'Hällqvist, J.; Gilmour, K.C.; Grandjean, L.; Mills, K.; Heywood, W.E. ‘The'}, {'entity': 'L.A.', 'start_context': 951, 'end_context': 972, 'label': 'ORGANISM', 'context': 'Sunnquist, M.; Nicholson, L.; Jason, L.A.; Newton, J.L.; Strand, E.B. Energy envelope'}, {'entity': 'J.L.', 'start_context': 955, 'end_context': 976, 'label': 'ORGANISM', 'context': 'Nicholson, L.; Jason, L.A.; Newton, J.L.; Strand, E.B. Energy envelope maintenance among patients\\n'}, {'entity': 'patients', 'start_context': 451, 'end_context': 472, 'label': 'ORGANISM', 'context': 'response after a SARS-CoV-2 infection in asymptomatic and mildly affected patients. F1000Research\\n2020 ,9, 1349. ['}]\n"
     ]
    }
   ],
   "source": [
    "#chekc how they handle body text pages\n",
    "output_enfo = extract_entities_with_context('en_ner_bionlp13cg_md', enfo_ref, 10)\n",
    "output_mecfs = extract_entities_with_context('en_ner_bionlp13cg_md', mecfs_ref, 10)"
   ]
  },
  {
   "attachments": {},
   "cell_type": "markdown",
   "metadata": {},
   "source": [
    "extracted entities seem quite off (e.g. classifying patients as organism, page count as simple chemical; the entity types are quite clear but quite broad (e.g. many things can be recognized as chemical); errors again visible in the outputs for reference texts (eg classifying page count as protein) "
   ]
  },
  {
   "attachments": {},
   "cell_type": "markdown",
   "metadata": {},
   "source": [
    "### conclusions\n",
    "* None of the provided models handles references / bibliography sections well \n",
    "* they would all require some post-processing to remove same entities that are repeated through text \n",
    "\n",
    "I will probably choose **en_ner_bc5cdr_md** as the model of choice, mainly because of high number of entity types, extracted entities are not very generic and could be used for tasks such as target or biomarker identification. That being said though, it is the largest model so the tradeoff is the inference & fitting time."
   ]
  }
 ],
 "metadata": {
  "kernelspec": {
   "display_name": ".venv",
   "language": "python",
   "name": "python3"
  },
  "language_info": {
   "codemirror_mode": {
    "name": "ipython",
    "version": 3
   },
   "file_extension": ".py",
   "mimetype": "text/x-python",
   "name": "python",
   "nbconvert_exporter": "python",
   "pygments_lexer": "ipython3",
   "version": "3.9.7"
  },
  "orig_nbformat": 4
 },
 "nbformat": 4,
 "nbformat_minor": 2
}
